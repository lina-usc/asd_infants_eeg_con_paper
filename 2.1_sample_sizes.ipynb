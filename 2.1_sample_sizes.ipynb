{
 "cells": [
  {
   "attachments": {},
   "cell_type": "markdown",
   "metadata": {},
   "source": [
    "# Imports\n"
   ]
  },
  {
   "cell_type": "code",
   "execution_count": 62,
   "metadata": {},
   "outputs": [],
   "source": [
    "from pathlib import Path\n",
    "\n",
    "from IPython.core.display import display\n",
    "import numpy as np\n",
    "import matplotlib.pyplot as plt\n",
    "import seaborn as sns\n",
    "import mne\n",
    "import mne_connectivity\n",
    "from tqdm.notebook import tqdm\n",
    "import pandas as pd\n",
    "import statsmodels.api as sm\n",
    "import statsmodels.formula.api as smf\n",
    "from scipy.stats import pearsonr\n",
    "\n",
    "import acareeg\n",
    "from infant_connectivity import load_connectivity_data, get_demo_data, label_outliers, \\\n",
    "    plot_outliers, logit"
   ]
  },
  {
   "attachments": {},
   "cell_type": "markdown",
   "metadata": {},
   "source": [
    "# Global variables and configuration"
   ]
  },
  {
   "cell_type": "code",
   "execution_count": 63,
   "metadata": {},
   "outputs": [],
   "source": [
    "palette = sns.color_palette([\"green\", \"orange\", \"red\"])\n",
    "\n",
    "#con_path = Path(\"/Volumes/usc_data/ElementSE/eegip/con_paper/\")\n",
    "con_path = Path(\"/Users/christian/Documents/con_paper/\")\n",
    "\n",
    "plt.rcParams['figure.facecolor'] = 'white'"
   ]
  },
  {
   "cell_type": "markdown",
   "metadata": {},
   "source": [
    "# Loading data"
   ]
  },
  {
   "cell_type": "code",
   "execution_count": 64,
   "metadata": {},
   "outputs": [
    {
     "name": "stdout",
     "output_type": "stream",
     "text": [
      "0 files missing from ANTS12-0Months3T.txt in /Users/christian/Code/papers/asd_infants_eeg_con_paper/ANTS12-0Months3T\n",
      "    3 BEM surfaces found\n",
      "    Reading a surface...\n",
      "[done]\n",
      "    Reading a surface...\n",
      "[done]\n",
      "    Reading a surface...\n",
      "[done]\n",
      "    3 BEM surfaces read\n",
      "Loading surfaces...\n",
      "\n",
      "Loading the solution matrix...\n",
      "\n",
      "Three-layer model surfaces loaded.\n",
      "Loaded linear collocation BEM solution from /Users/christian/Code/papers/asd_infants_eeg_con_paper/ANTS12-0Months3T/bem/ANTS12-0Months3T-5120-5120-5120-bem-sol.fif\n",
      "    Reading a source space...\n",
      "    Computing patch statistics...\n",
      "    Patch information added...\n",
      "    Distance information added...\n",
      "    [done]\n",
      "    Reading a source space...\n",
      "    Computing patch statistics...\n",
      "    Patch information added...\n",
      "    Distance information added...\n",
      "    [done]\n",
      "    2 source spaces read\n",
      "Reading labels from parcellation...\n",
      "   read 34 labels from /Users/christian/Code/papers/asd_infants_eeg_con_paper/ANTS12-0Months3T/label/lh.aparc.annot\n",
      "   read 34 labels from /Users/christian/Code/papers/asd_infants_eeg_con_paper/ANTS12-0Months3T/label/rh.aparc.annot\n"
     ]
    }
   ],
   "source": [
    "band = \"broadband\"\n",
    "\n",
    "con_data = load_connectivity_data(con_path, band=band, con_name=\"ciplv\", lambda2=1e-4)\n",
    "demo_data = get_demo_data(force_download=False)\n",
    "dat = con_data.merge(demo_data, on=[\"subject_no\", \"dataset\"])"
   ]
  },
  {
   "cell_type": "markdown",
   "metadata": {},
   "source": [
    "### Adding group information"
   ]
  },
  {
   "cell_type": "code",
   "execution_count": 65,
   "metadata": {},
   "outputs": [],
   "source": [
    "site_mapping = {\"washington\": \"Seattle\", \"london\": \"London\"}\n",
    "dat[\"dataset\"] = [site_mapping[dataset] for dataset in dat.dataset]\n",
    "dat.rename(columns={\"dataset\": \"site\"}, inplace=True)"
   ]
  },
  {
   "cell_type": "markdown",
   "metadata": {},
   "source": [
    "### Rejecting 18m to address reviewers comments"
   ]
  },
  {
   "cell_type": "code",
   "execution_count": 66,
   "metadata": {},
   "outputs": [],
   "source": [
    "dat = dat[dat.age != 18]"
   ]
  },
  {
   "attachments": {},
   "cell_type": "markdown",
   "metadata": {},
   "source": [
    "# Looking at the sample sizes"
   ]
  },
  {
   "cell_type": "code",
   "execution_count": 67,
   "metadata": {},
   "outputs": [
    {
     "data": {
      "text/html": [
       "<div>\n",
       "<style scoped>\n",
       "    .dataframe tbody tr th:only-of-type {\n",
       "        vertical-align: middle;\n",
       "    }\n",
       "\n",
       "    .dataframe tbody tr th {\n",
       "        vertical-align: top;\n",
       "    }\n",
       "\n",
       "    .dataframe thead th {\n",
       "        text-align: right;\n",
       "    }\n",
       "</style>\n",
       "<table border=\"1\" class=\"dataframe\">\n",
       "  <thead>\n",
       "    <tr style=\"text-align: right;\">\n",
       "      <th></th>\n",
       "      <th>site</th>\n",
       "      <th>London</th>\n",
       "      <th>Seattle</th>\n",
       "    </tr>\n",
       "    <tr>\n",
       "      <th>risk</th>\n",
       "      <th>outcome</th>\n",
       "      <th></th>\n",
       "      <th></th>\n",
       "    </tr>\n",
       "  </thead>\n",
       "  <tbody>\n",
       "    <tr>\n",
       "      <th rowspan=\"3\" valign=\"top\">Control</th>\n",
       "      <th>777</th>\n",
       "      <td>0/0</td>\n",
       "      <td>3/1</td>\n",
       "    </tr>\n",
       "    <tr>\n",
       "      <th>asd</th>\n",
       "      <td>0/0</td>\n",
       "      <td>2/1</td>\n",
       "    </tr>\n",
       "    <tr>\n",
       "      <th>no-asd</th>\n",
       "      <td>21/27</td>\n",
       "      <td>21/16</td>\n",
       "    </tr>\n",
       "    <tr>\n",
       "      <th rowspan=\"2\" valign=\"top\">HRA</th>\n",
       "      <th>asd</th>\n",
       "      <td>11/5</td>\n",
       "      <td>4/7</td>\n",
       "    </tr>\n",
       "    <tr>\n",
       "      <th>no-asd</th>\n",
       "      <td>10/25</td>\n",
       "      <td>22/6</td>\n",
       "    </tr>\n",
       "  </tbody>\n",
       "</table>\n",
       "</div>"
      ],
      "text/plain": [
       "site            London Seattle\n",
       "risk    outcome               \n",
       "Control 777        0/0     3/1\n",
       "        asd        0/0     2/1\n",
       "        no-asd   21/27   21/16\n",
       "HRA     asd       11/5     4/7\n",
       "        no-asd   10/25    22/6"
      ]
     },
     "execution_count": 67,
     "metadata": {},
     "output_type": "execute_result"
    }
   ],
   "source": [
    "#tmp = demo_data.groupby([\"sex\", \"risk\", \"outcome\", \"dataset\"]).count()[[\"subject_no\"]].reset_index().fillna(0)\n",
    "#tmp = tmp.pivot_table(index=[\"risk\", \"outcome\", \"dataset\"], values=\"subject_no\", columns='sex').fillna(0)\n",
    "#tmp[\"count\"] = [\"{}/{}\".format(int(M), int(F)) for M, F in zip(tmp.M, tmp.F)]\n",
    "#tmp.unstack(\"dataset\")[\"count\"].fillna(\"0/0\")\n",
    "\n",
    "# Only for participants with data at either 6 or 12 months\n",
    "tmp = dat.groupby([\"subject_no\", \"sex\", \"risk\", \"outcome\", \"site\"]).mean().reset_index()\n",
    "tmp = tmp.groupby([\"sex\", \"risk\", \"outcome\", \"site\"]).count()[[\"subject_no\"]].reset_index().fillna(0)\n",
    "tmp = tmp.pivot_table(index=[\"risk\", \"outcome\", \"site\"], values=\"subject_no\", columns='sex').fillna(0)\n",
    "tmp[\"count\"] = [\"{}/{}\".format(int(M), int(F)) for M, F in zip(tmp.M, tmp.F)]\n",
    "tmp.unstack(\"site\")[\"count\"].fillna(\"0/0\")"
   ]
  },
  {
   "cell_type": "code",
   "execution_count": 68,
   "metadata": {},
   "outputs": [
    {
     "data": {
      "text/plain": [
       "risk\n",
       "Control    92\n",
       "HRA        90\n",
       "Name: age, dtype: int64"
      ]
     },
     "execution_count": 68,
     "metadata": {},
     "output_type": "execute_result"
    }
   ],
   "source": [
    "dat.groupby([\"subject_no\", \"risk\"]).mean().reset_index().groupby(\"risk\").count()[\"age\"]"
   ]
  },
  {
   "cell_type": "code",
   "execution_count": 39,
   "metadata": {},
   "outputs": [
    {
     "data": {
      "text/plain": [
       "304"
      ]
     },
     "execution_count": 39,
     "metadata": {},
     "output_type": "execute_result"
    }
   ],
   "source": [
    "len(dat.groupby(['age', 'site', 'subject_no']).mean())"
   ]
  },
  {
   "cell_type": "code",
   "execution_count": 40,
   "metadata": {},
   "outputs": [],
   "source": [
    "# Dropping subjects with no group attribution\n",
    "dat = dat[~pd.isna(dat.group)]"
   ]
  },
  {
   "cell_type": "code",
   "execution_count": 41,
   "metadata": {},
   "outputs": [
    {
     "data": {
      "text/plain": [
       "299"
      ]
     },
     "execution_count": 41,
     "metadata": {},
     "output_type": "execute_result"
    }
   ],
   "source": [
    "len(dat.groupby(['age', 'site', 'subject_no']).mean())"
   ]
  },
  {
   "cell_type": "code",
   "execution_count": 42,
   "metadata": {},
   "outputs": [],
   "source": [
    "def print_N(dat):\n",
    "\n",
    "    dat = dat[dat.group != \"Unknown\"]\n",
    "    tmp = dat.groupby([\"sex\", \"group\", \"site\", \"age\", \"subject\"]).mean()\\\n",
    "             .groupby([\"sex\", \"group\", \"site\", \"age\"]).count()[[\"con\"]].reset_index()\n",
    "    #tmp = tmp[tmp.age != 18]\n",
    "    N = [\"{}/{}\".format(M, F) for M, F in zip(tmp[tmp.sex == \"M\"][\"con\"].values, tmp[tmp.sex == \"F\"][\"con\"].values)]\n",
    "    tmp = tmp[tmp.sex == \"M\"]\n",
    "    del tmp[\"sex\"]\n",
    "    tmp.con = N\n",
    "    display(tmp.set_index([\"site\", \"group\", \"age\"]).unstack(\"age\")[\"con\"][[6, 12]])\n",
    "    \n",
    "    \n",
    "    tmp = dat.groupby([\"sex\", \"group\", \"site\", \"age\", \"subject\"]).mean()\\\n",
    "             .groupby([\"sex\", \"group\",  \"age\"]).count()[[\"con\"]].reset_index()\n",
    "    #tmp = tmp[tmp.age != 18]\n",
    "    N = [\"{}/{}\".format(M, F) for M, F in zip(tmp[tmp.sex == \"M\"][\"con\"].values, tmp[tmp.sex == \"F\"][\"con\"].values)]\n",
    "    tmp = tmp[tmp.sex == \"M\"]\n",
    "    del tmp[\"sex\"]\n",
    "    tmp.con = N\n",
    "    display(tmp.set_index([\"group\", \"age\"]).unstack(\"age\")[\"con\"][[6, 12]])"
   ]
  },
  {
   "cell_type": "code",
   "execution_count": 43,
   "metadata": {},
   "outputs": [
    {
     "data": {
      "text/html": [
       "<div>\n",
       "<style scoped>\n",
       "    .dataframe tbody tr th:only-of-type {\n",
       "        vertical-align: middle;\n",
       "    }\n",
       "\n",
       "    .dataframe tbody tr th {\n",
       "        vertical-align: top;\n",
       "    }\n",
       "\n",
       "    .dataframe thead th {\n",
       "        text-align: right;\n",
       "    }\n",
       "</style>\n",
       "<table border=\"1\" class=\"dataframe\">\n",
       "  <thead>\n",
       "    <tr style=\"text-align: right;\">\n",
       "      <th></th>\n",
       "      <th>age</th>\n",
       "      <th>6</th>\n",
       "      <th>12</th>\n",
       "    </tr>\n",
       "    <tr>\n",
       "      <th>site</th>\n",
       "      <th>group</th>\n",
       "      <th></th>\n",
       "      <th></th>\n",
       "    </tr>\n",
       "  </thead>\n",
       "  <tbody>\n",
       "    <tr>\n",
       "      <th rowspan=\"3\" valign=\"top\">London</th>\n",
       "      <th>Control</th>\n",
       "      <td>12/21</td>\n",
       "      <td>20/23</td>\n",
       "    </tr>\n",
       "    <tr>\n",
       "      <th>HRA-noASD</th>\n",
       "      <td>6/17</td>\n",
       "      <td>9/23</td>\n",
       "    </tr>\n",
       "    <tr>\n",
       "      <th>HRA-ASD</th>\n",
       "      <td>9/2</td>\n",
       "      <td>10/5</td>\n",
       "    </tr>\n",
       "    <tr>\n",
       "      <th rowspan=\"3\" valign=\"top\">Seattle</th>\n",
       "      <th>Control</th>\n",
       "      <td>24/15</td>\n",
       "      <td>17/17</td>\n",
       "    </tr>\n",
       "    <tr>\n",
       "      <th>HRA-noASD</th>\n",
       "      <td>21/6</td>\n",
       "      <td>19/5</td>\n",
       "    </tr>\n",
       "    <tr>\n",
       "      <th>HRA-ASD</th>\n",
       "      <td>2/6</td>\n",
       "      <td>4/6</td>\n",
       "    </tr>\n",
       "  </tbody>\n",
       "</table>\n",
       "</div>"
      ],
      "text/plain": [
       "age                   6      12\n",
       "site    group                  \n",
       "London  Control    12/21  20/23\n",
       "        HRA-noASD   6/17   9/23\n",
       "        HRA-ASD      9/2   10/5\n",
       "Seattle Control    24/15  17/17\n",
       "        HRA-noASD   21/6   19/5\n",
       "        HRA-ASD      2/6    4/6"
      ]
     },
     "metadata": {},
     "output_type": "display_data"
    },
    {
     "data": {
      "text/html": [
       "<div>\n",
       "<style scoped>\n",
       "    .dataframe tbody tr th:only-of-type {\n",
       "        vertical-align: middle;\n",
       "    }\n",
       "\n",
       "    .dataframe tbody tr th {\n",
       "        vertical-align: top;\n",
       "    }\n",
       "\n",
       "    .dataframe thead th {\n",
       "        text-align: right;\n",
       "    }\n",
       "</style>\n",
       "<table border=\"1\" class=\"dataframe\">\n",
       "  <thead>\n",
       "    <tr style=\"text-align: right;\">\n",
       "      <th>age</th>\n",
       "      <th>6</th>\n",
       "      <th>12</th>\n",
       "    </tr>\n",
       "    <tr>\n",
       "      <th>group</th>\n",
       "      <th></th>\n",
       "      <th></th>\n",
       "    </tr>\n",
       "  </thead>\n",
       "  <tbody>\n",
       "    <tr>\n",
       "      <th>Control</th>\n",
       "      <td>36/36</td>\n",
       "      <td>37/40</td>\n",
       "    </tr>\n",
       "    <tr>\n",
       "      <th>HRA-noASD</th>\n",
       "      <td>27/23</td>\n",
       "      <td>28/28</td>\n",
       "    </tr>\n",
       "    <tr>\n",
       "      <th>HRA-ASD</th>\n",
       "      <td>11/8</td>\n",
       "      <td>14/11</td>\n",
       "    </tr>\n",
       "  </tbody>\n",
       "</table>\n",
       "</div>"
      ],
      "text/plain": [
       "age           6      12\n",
       "group                  \n",
       "Control    36/36  37/40\n",
       "HRA-noASD  27/23  28/28\n",
       "HRA-ASD     11/8  14/11"
      ]
     },
     "metadata": {},
     "output_type": "display_data"
    }
   ],
   "source": [
    "print_N(dat)"
   ]
  },
  {
   "attachments": {},
   "cell_type": "markdown",
   "metadata": {},
   "source": [
    "# Looking at number of valid epochs after artifact rejection"
   ]
  },
  {
   "cell_type": "code",
   "execution_count": 44,
   "metadata": {},
   "outputs": [],
   "source": [
    "\"\"\"recompute = False\n",
    "\n",
    "file_name = \"sample_sizes_after_artifact_rejection.csv\"\n",
    "if recompute or not Path(file_name).exists():\n",
    "    tmax = 1.0\n",
    "    df = pd.DataFrame()\n",
    "    mastersheet = acareeg.eegip.get_mastersheet().reset_index()\n",
    "    for index, row in tqdm(mastersheet.iterrows(), total=len(mastersheet)):\n",
    "        dataset = row.Site.lower()\n",
    "        for age in [6, 12, 18]:\n",
    "            epochs = acareeg.eegip.get_resting_state_epochs(row.ID.replace(\"EC\", \"\"), dataset, age, subjects_dir=\".\",\n",
    "                                                            bids_root=\"/Volumes/usc_data/ElementSE/eegip/\",\n",
    "                                                            tmax=tmax)\n",
    "            if epochs is None:\n",
    "                continue\n",
    "\n",
    "            df = df.append({\"site\": dataset, \"age\": age, \"nb_epochs\": len(epochs)}, ignore_index=True)\n",
    "            \n",
    "    df.to_csv(file_name)\n",
    "\n",
    "else:\n",
    "    df = pd.read_csv(file_name, index_col=0)\"\"\";"
   ]
  },
  {
   "cell_type": "markdown",
   "metadata": {},
   "source": [
    "### Number of participants with ADOS"
   ]
  },
  {
   "cell_type": "code",
   "execution_count": 45,
   "metadata": {},
   "outputs": [
    {
     "data": {
      "text/html": [
       "<div>\n",
       "<style scoped>\n",
       "    .dataframe tbody tr th:only-of-type {\n",
       "        vertical-align: middle;\n",
       "    }\n",
       "\n",
       "    .dataframe tbody tr th {\n",
       "        vertical-align: top;\n",
       "    }\n",
       "\n",
       "    .dataframe thead th {\n",
       "        text-align: right;\n",
       "    }\n",
       "</style>\n",
       "<table border=\"1\" class=\"dataframe\">\n",
       "  <thead>\n",
       "    <tr style=\"text-align: right;\">\n",
       "      <th></th>\n",
       "      <th>site</th>\n",
       "      <th>London</th>\n",
       "      <th>Seattle</th>\n",
       "    </tr>\n",
       "    <tr>\n",
       "      <th>risk</th>\n",
       "      <th>outcome</th>\n",
       "      <th></th>\n",
       "      <th></th>\n",
       "    </tr>\n",
       "  </thead>\n",
       "  <tbody>\n",
       "    <tr>\n",
       "      <th>Control</th>\n",
       "      <th>no-asd</th>\n",
       "      <td>20/27</td>\n",
       "      <td>12/10</td>\n",
       "    </tr>\n",
       "    <tr>\n",
       "      <th rowspan=\"2\" valign=\"top\">HRA</th>\n",
       "      <th>asd</th>\n",
       "      <td>11/5</td>\n",
       "      <td>2/3</td>\n",
       "    </tr>\n",
       "    <tr>\n",
       "      <th>no-asd</th>\n",
       "      <td>10/25</td>\n",
       "      <td>12/4</td>\n",
       "    </tr>\n",
       "  </tbody>\n",
       "</table>\n",
       "</div>"
      ],
      "text/plain": [
       "site            London Seattle\n",
       "risk    outcome               \n",
       "Control no-asd   20/27   12/10\n",
       "HRA     asd       11/5     2/3\n",
       "        no-asd   10/25    12/4"
      ]
     },
     "execution_count": 45,
     "metadata": {},
     "output_type": "execute_result"
    }
   ],
   "source": [
    "tmp = dat[~np.isnan(dat.adoscss_earliest)].groupby([\"subject_no\", \"sex\", \"risk\", \"outcome\", \"site\"]).mean().reset_index()\n",
    "tmp = tmp.groupby([\"sex\", \"risk\", \"outcome\", \"site\"]).count()[[\"subject_no\"]].reset_index().fillna(0)\n",
    "tmp = tmp.pivot_table(index=[\"risk\", \"outcome\", \"site\"], values=\"subject_no\", columns='sex').fillna(0)\n",
    "tmp[\"count\"] = [\"{}/{}\".format(int(M), int(F)) for M, F in zip(tmp.M, tmp.F)]\n",
    "tmp.unstack(\"site\")[\"count\"].fillna(\"0/0\")"
   ]
  },
  {
   "cell_type": "markdown",
   "metadata": {},
   "source": [
    "## Outliers labeling\n",
    "### With LOGIT transform"
   ]
  },
  {
   "cell_type": "code",
   "execution_count": 46,
   "metadata": {},
   "outputs": [
    {
     "data": {
      "text/plain": [
       "age  group      site     sex\n",
       "6    Control    London   F      0\n",
       "                         M      1\n",
       "                Seattle  F      0\n",
       "                         M      0\n",
       "     HRA-noASD  London   F      1\n",
       "                         M      0\n",
       "                Seattle  F      0\n",
       "                         M      1\n",
       "     HRA-ASD    London   F      0\n",
       "                         M      0\n",
       "                Seattle  F      1\n",
       "                         M      0\n",
       "12   Control    London   F      2\n",
       "                         M      0\n",
       "                Seattle  F      3\n",
       "                         M      1\n",
       "     HRA-noASD  London   F      1\n",
       "                         M      0\n",
       "                Seattle  F      0\n",
       "                         M      0\n",
       "     HRA-ASD    London   F      0\n",
       "                         M      0\n",
       "                Seattle  F      0\n",
       "                         M      0\n",
       "Name: subject, dtype: int64"
      ]
     },
     "execution_count": 46,
     "metadata": {},
     "output_type": "execute_result"
    }
   ],
   "source": [
    "outliers = label_outliers(dat)  \n",
    "outliers.groupby([\"age\", \"group\", \"site\", \"sex\"]).count()[\"subject\"]"
   ]
  },
  {
   "cell_type": "code",
   "execution_count": 47,
   "metadata": {},
   "outputs": [
    {
     "data": {
      "image/png": "[encoded data removed]",
      "text/plain": [
       "<Figure size 396x360 with 4 Axes>"
      ]
     },
     "metadata": {},
     "output_type": "display_data"
    }
   ],
   "source": [
    "plot_outliers(dat)  "
   ]
  },
  {
   "cell_type": "code",
   "execution_count": 48,
   "metadata": {},
   "outputs": [
    {
     "name": "stdout",
     "output_type": "stream",
     "text": [
      "Nb recordings: 299\n",
      "Nb outliers: 11\n"
     ]
    }
   ],
   "source": [
    "print(\"Nb recordings:\", len(dat.groupby([\"subject\", \"sex\", \"age\", \"group\", \"site\"], observed=True).mean()))\n",
    "print(\"Nb outliers:\", len(outliers))\n"
   ]
  },
  {
   "cell_type": "code",
   "execution_count": 49,
   "metadata": {},
   "outputs": [
    {
     "name": "stdout",
     "output_type": "stream",
     "text": [
      "6: 4/141 (2.8%); 12: 7/158 (4.4%)\n",
      "Control: 7/149 (4.7%); HRA-noASD: 3/106 (2.8%); HRA-ASD: 1/44 (2.3%)\n",
      "London: 5/157 (3.2%); Seattle: 6/142 (4.2%)\n",
      "F: 8/146 (5.5%); M: 3/153 (2.0%)\n"
     ]
    }
   ],
   "source": [
    "tmp = dat.groupby([\"subject\", \"sex\", \"age\", \"group\", \"site\"], observed=True).mean().reset_index()\n",
    "for factor in [\"age\", \"group\", \"site\", \"sex\"]:\n",
    "    nb_reject = outliers.groupby(factor).count()[\"subject\"]\n",
    "    nb_tot = tmp.groupby(factor).count()[\"subject\"]\n",
    "\n",
    "\n",
    "    print(\"; \".join([f\"{key}: {nb_reject[key]}/{nb_tot[key]} ({val*100:.1f}%)\" for key, val in (nb_reject/nb_tot).items()]))"
   ]
  },
  {
   "cell_type": "code",
   "execution_count": 50,
   "metadata": {},
   "outputs": [
    {
     "data": {
      "text/plain": [
       "sex\n",
       "F    8\n",
       "M    3\n",
       "Name: subject, dtype: int64"
      ]
     },
     "execution_count": 50,
     "metadata": {},
     "output_type": "execute_result"
    }
   ],
   "source": [
    "outliers.groupby(factor).count()[\"subject\"]"
   ]
  },
  {
   "cell_type": "code",
   "execution_count": 51,
   "metadata": {},
   "outputs": [
    {
     "data": {
      "text/plain": [
       "sex\n",
       "F    146\n",
       "M    153\n",
       "Name: subject, dtype: int64"
      ]
     },
     "execution_count": 51,
     "metadata": {},
     "output_type": "execute_result"
    }
   ],
   "source": [
    "tmp.groupby(factor, observed=True).count()[\"subject\"]"
   ]
  },
  {
   "cell_type": "code",
   "execution_count": 52,
   "metadata": {},
   "outputs": [
    {
     "data": {
      "text/html": [
       "<div>\n",
       "<style scoped>\n",
       "    .dataframe tbody tr th:only-of-type {\n",
       "        vertical-align: middle;\n",
       "    }\n",
       "\n",
       "    .dataframe tbody tr th {\n",
       "        vertical-align: top;\n",
       "    }\n",
       "\n",
       "    .dataframe thead th {\n",
       "        text-align: right;\n",
       "    }\n",
       "</style>\n",
       "<table border=\"1\" class=\"dataframe\">\n",
       "  <thead>\n",
       "    <tr style=\"text-align: right;\">\n",
       "      <th></th>\n",
       "      <th>age</th>\n",
       "      <th>6</th>\n",
       "      <th>12</th>\n",
       "    </tr>\n",
       "    <tr>\n",
       "      <th>site</th>\n",
       "      <th>group</th>\n",
       "      <th></th>\n",
       "      <th></th>\n",
       "    </tr>\n",
       "  </thead>\n",
       "  <tbody>\n",
       "    <tr>\n",
       "      <th rowspan=\"3\" valign=\"top\">London</th>\n",
       "      <th>Control</th>\n",
       "      <td>11/21</td>\n",
       "      <td>20/21</td>\n",
       "    </tr>\n",
       "    <tr>\n",
       "      <th>HRA-noASD</th>\n",
       "      <td>6/16</td>\n",
       "      <td>9/22</td>\n",
       "    </tr>\n",
       "    <tr>\n",
       "      <th>HRA-ASD</th>\n",
       "      <td>9/2</td>\n",
       "      <td>10/5</td>\n",
       "    </tr>\n",
       "    <tr>\n",
       "      <th rowspan=\"3\" valign=\"top\">Seattle</th>\n",
       "      <th>Control</th>\n",
       "      <td>24/15</td>\n",
       "      <td>16/14</td>\n",
       "    </tr>\n",
       "    <tr>\n",
       "      <th>HRA-noASD</th>\n",
       "      <td>20/6</td>\n",
       "      <td>19/5</td>\n",
       "    </tr>\n",
       "    <tr>\n",
       "      <th>HRA-ASD</th>\n",
       "      <td>2/5</td>\n",
       "      <td>4/6</td>\n",
       "    </tr>\n",
       "  </tbody>\n",
       "</table>\n",
       "</div>"
      ],
      "text/plain": [
       "age                   6      12\n",
       "site    group                  \n",
       "London  Control    11/21  20/21\n",
       "        HRA-noASD   6/16   9/22\n",
       "        HRA-ASD      9/2   10/5\n",
       "Seattle Control    24/15  16/14\n",
       "        HRA-noASD   20/6   19/5\n",
       "        HRA-ASD      2/5    4/6"
      ]
     },
     "metadata": {},
     "output_type": "display_data"
    },
    {
     "data": {
      "text/html": [
       "<div>\n",
       "<style scoped>\n",
       "    .dataframe tbody tr th:only-of-type {\n",
       "        vertical-align: middle;\n",
       "    }\n",
       "\n",
       "    .dataframe tbody tr th {\n",
       "        vertical-align: top;\n",
       "    }\n",
       "\n",
       "    .dataframe thead th {\n",
       "        text-align: right;\n",
       "    }\n",
       "</style>\n",
       "<table border=\"1\" class=\"dataframe\">\n",
       "  <thead>\n",
       "    <tr style=\"text-align: right;\">\n",
       "      <th>age</th>\n",
       "      <th>6</th>\n",
       "      <th>12</th>\n",
       "    </tr>\n",
       "    <tr>\n",
       "      <th>group</th>\n",
       "      <th></th>\n",
       "      <th></th>\n",
       "    </tr>\n",
       "  </thead>\n",
       "  <tbody>\n",
       "    <tr>\n",
       "      <th>Control</th>\n",
       "      <td>35/36</td>\n",
       "      <td>36/35</td>\n",
       "    </tr>\n",
       "    <tr>\n",
       "      <th>HRA-noASD</th>\n",
       "      <td>26/22</td>\n",
       "      <td>28/27</td>\n",
       "    </tr>\n",
       "    <tr>\n",
       "      <th>HRA-ASD</th>\n",
       "      <td>11/7</td>\n",
       "      <td>14/11</td>\n",
       "    </tr>\n",
       "  </tbody>\n",
       "</table>\n",
       "</div>"
      ],
      "text/plain": [
       "age           6      12\n",
       "group                  \n",
       "Control    35/36  36/35\n",
       "HRA-noASD  26/22  28/27\n",
       "HRA-ASD     11/7  14/11"
      ]
     },
     "metadata": {},
     "output_type": "display_data"
    }
   ],
   "source": [
    "print_N(dat[(~dat.outliers_logit) & (dat.age != 18)])"
   ]
  },
  {
   "cell_type": "code",
   "execution_count": 53,
   "metadata": {},
   "outputs": [
    {
     "data": {
      "text/plain": [
       "group\n",
       "Control      71.0\n",
       "HRA-noASD    51.5\n",
       "HRA-ASD      21.5\n",
       "Name: con, dtype: float64"
      ]
     },
     "execution_count": 53,
     "metadata": {},
     "output_type": "execute_result"
    }
   ],
   "source": [
    "# Average sample sizes\n",
    "dat[(~dat.outliers_logit) & (dat.age != 18)].groupby([\"subject\", \"group\", \"age\"])\\\n",
    "    .mean().groupby(\"group\").count()[\"con\"]/2"
   ]
  },
  {
   "cell_type": "markdown",
   "metadata": {},
   "source": [
    "### Saving the processed dataset for further analysis"
   ]
  },
  {
   "cell_type": "code",
   "execution_count": 54,
   "metadata": {},
   "outputs": [],
   "source": [
    "dat = dat[(~dat.outliers_logit) & (dat.age != 18)]\n",
    "dat[\"log_con\"] = logit(dat.con)\n",
    "\n",
    "dat.to_csv(\"analysis_data.csv\")"
   ]
  },
  {
   "cell_type": "markdown",
   "metadata": {},
   "source": [
    "### Sample size comparison with literature"
   ]
  },
  {
   "cell_type": "code",
   "execution_count": 55,
   "metadata": {},
   "outputs": [],
   "source": [
    "eeg_asd = [9, 10, 12, 87, 19, 15, 20, 430, 430, 72, 6, 16, 12, 12, 27, 14, 9, 21, 15, 27, 18, 10, 30, 5, 21, 34, 10]\n",
    "eeg_control = [9, 10, 19, 29, 13, 15, 20, 554, 554, 31, 8, 17, 12, 19, 20, 19, 13, 16, 55, 18, 44, 46, 49, 21, 14]\n",
    "eeg_total = [18, 74, 20, 31, 137, 32, 30, 40, 984, 984, 103, 14, 33, 24, 32, 47, 33, 22, 21, 31, 82, 36, 54, 105, 54, 42, 34, 24]\n",
    "\n",
    "meg_asd = [14, 12, 16, 9, 26, 11, 17, 15, 35, 26, 50, 15, 10, 22, 20, 8, 8, 17, 16]\n",
    "meg_control = [14, 35, 14, 10, 22, 11, 20, 20, 35, 26, 50, 15, 8, 17, 20, 8, 8, 20, 15]\n",
    "meg_total = [28, 63, 30, 19, 48, 22, 37, 35, 70, 52, 100, 30, 18, 39, 40, 16, 16, 37, 31]\n"
   ]
  },
  {
   "cell_type": "code",
   "execution_count": 56,
   "metadata": {},
   "outputs": [
    {
     "data": {
      "image/png": "[encoded data removed]",
      "text/plain": [
       "<Figure size 720x216 with 3 Axes>"
      ]
     },
     "metadata": {},
     "output_type": "display_data"
    }
   ],
   "source": [
    "fig, axes = plt.subplots(1, 3, figsize=(10, 3), sharex=True, sharey=True)\n",
    "\n",
    "bins = 10**np.linspace(np.log10(4), np.log10(1000), 30)\n",
    "sns.histplot(eeg_asd + meg_asd, label=\"asd\", ax=axes[0], bins=bins)\n",
    "sns.histplot(eeg_control + meg_control, label=\"control\", ax=axes[1], bins=bins)\n",
    "sns.histplot(eeg_total + meg_total, label=\"total\", ax=axes[2], bins=bins)\n",
    "\n",
    "axes[0].set_title(\"ASD\")\n",
    "axes[1].set_title(\"Control\")\n",
    "axes[2].set_title(\"Total\")\n",
    "axes[0].set_ylabel(\"Number of studies\")\n",
    "for ax in axes:\n",
    "    ax.set_xscale('log')\n",
    "    ax.set_xlim(4, 1000)\n",
    "    ax.set_xlabel(\"Sample size\")\n",
    "    \n",
    "# Total combined, average across time points, HRA- as control    \n",
    "tmp = dat.groupby([\"group\", \"site\", \"age\", \"subject\"]).mean()\\\n",
    "         .groupby([\"group\", \"site\", \"age\"], observed=True).count()[[\"con\"]].reset_index()\n",
    "tmp = tmp[tmp.age != 18]\n",
    "total_asd = tmp[tmp.group == \"HRA-ASD\"].groupby(\"site\").mean()[\"con\"].sum()\n",
    "total_control = tmp[tmp.group != \"HRA-ASD\"].groupby([\"group\", \"site\"]).mean()[\"con\"].sum()\n",
    "\n",
    "\n",
    "axes[0].axvline(x=total_asd, color=\"k\", linestyle=\"dashed\")\n",
    "axes[1].axvline(x=total_control, color=\"k\", linestyle=\"dashed\")\n",
    "axes[2].axvline(x=total_asd + total_control, color=\"k\", linestyle=\"dashed\")\n",
    " \n",
    "axes[0].text(200, 10, \"N={}\".format(total_asd), color=\"k\")\n",
    "axes[1].text(200, 10, \"N={}\".format(total_control), color=\"k\")\n",
    "axes[2].text(200, 10, \"N={}\".format(total_asd + total_control), color=\"k\")\n",
    "\n",
    "fig.tight_layout()\n",
    "\n",
    "fig.savefig(\"images/\" + \"sample_size_hist.png\", dpi=300)"
   ]
  },
  {
   "cell_type": "code",
   "execution_count": 57,
   "metadata": {},
   "outputs": [
    {
     "name": "stdout",
     "output_type": "stream",
     "text": [
      "0.2391304347826087 0.7391304347826086\n"
     ]
    }
   ],
   "source": [
    "x = np.array(eeg_asd + meg_asd)\n",
    "print(np.sum(x <= 10)/len(x), np.sum(x <= 25)/len(x))"
   ]
  }
 ],
 "metadata": {
  "kernelspec": {
   "display_name": "Python 3.9.7 ('base')",
   "language": "python",
   "name": "python3"
  },
  "language_info": {
   "codemirror_mode": {
    "name": "ipython",
    "version": 3
   },
   "file_extension": ".py",
   "mimetype": "text/x-python",
   "name": "python",
   "nbconvert_exporter": "python",
   "pygments_lexer": "ipython3",
   "version": "3.9.7"
  },
  "vscode": {
   "interpreter": {
    "hash": "2a7ef6a8086c9a0bbd66650977cbf17bb7a453fb96fcf3327e37ddbfff0603e9"
   }
  }
 },
 "nbformat": 4,
 "nbformat_minor": 4
}
