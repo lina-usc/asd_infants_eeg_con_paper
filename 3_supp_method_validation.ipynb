{
 "cells": [
  {
   "cell_type": "code",
   "execution_count": 16,
   "metadata": {},
   "outputs": [],
   "source": [
    "from pathlib import Path\n",
    "from tqdm.notebook import tqdm\n",
    "import numpy as np\n",
    "import pandas as pd\n",
    "import mne\n",
    "import mne_connectivity\n",
    "import seaborn as sns\n",
    "import matplotlib.pyplot as plt\n",
    "\n",
    "import acareeg\n",
    "from acareeg.eegip import get_mastersheet, get_resting_state_epochs"
   ]
  },
  {
   "cell_type": "code",
   "execution_count": 17,
   "metadata": {},
   "outputs": [
    {
     "data": {
      "image/png": "[encoded data removed]",
      "text/plain": [
       "<Figure size 504x360 with 3 Axes>"
      ]
     },
     "metadata": {},
     "output_type": "display_data"
    }
   ],
   "source": [
    "plt.rcParams['figure.facecolor'] = 'white'\n",
    "\n",
    "fig = plt.figure(figsize=(7, 5), constrained_layout=True)\n",
    "gs = fig.add_gridspec(2, 2)\n",
    "# Create the Axes.\n",
    "axes = [fig.add_subplot(gs[1, :]), fig.add_subplot(gs[0, 0]), fig.add_subplot(gs[0, 1])]"
   ]
  },
  {
   "attachments": {},
   "cell_type": "markdown",
   "metadata": {},
   "source": [
    "# Computing the distribution of the number of epochs available for different epoch lenghts"
   ]
  },
  {
   "cell_type": "code",
   "execution_count": 18,
   "metadata": {
    "scrolled": true
   },
   "outputs": [],
   "source": [
    "recompute = False\n",
    "save_file_name =  Path(\"epoch_length_effect.csv\")\n",
    "\n",
    "bids_root = Path(\"/Volumes/usc_data/ElementSE/eegip\")\n",
    "\n",
    "mastersheet = acareeg.eegip.get_mastersheet()\n",
    "mastersheet = mastersheet.reset_index()[[\"Site\", \"ID\", '6m_EEGLAB_QCR_File', \n",
    "                                         '12m_EEGLAB_QCR_File', '18m_EEGLAB_QCR_File']]\n",
    "mastersheet = mastersheet.dropna(how=\"all\")\n",
    "mastersheet[\"subject_no\"] = [int(subject[-3:]) \n",
    "                             if isinstance(subject, str) \n",
    "                             else subject \n",
    "                             for subject in mastersheet[\"ID\"]]\n",
    "\n",
    "if not save_file_name.exists() or recompute:\n",
    "    duration2 = []\n",
    "    duration4 = []\n",
    "    duration1 = []\n",
    "    duration1_raw = []\n",
    "    subjects = []\n",
    "    datasets = []\n",
    "    ages = []\n",
    "    for index, row in tqdm(list(mastersheet.iterrows())):\n",
    "        dataset = row.Site.lower()\n",
    "        for age in [6, 12, 18]:\n",
    "            file_name = row[f\"{age}m_EEGLAB_QCR_File\"]\n",
    "            if isinstance(file_name, str) and \"qcr.se\" in file_name:  # because .set is currently truncated for Washington\n",
    "                subject = int(row.subject_no)\n",
    "                age = int(age)\n",
    "                eeg_path = Path(bids_root) / dataset / \"derivatives\" / \"lossless\" / f\"sub-s{subject:03}\" / f\"ses-m{age:02}\" / \"eeg\"\n",
    "                eeg_path = list(eeg_path.glob(\"*_qcr.set\"))\n",
    "                if len(eeg_path) == 0:\n",
    "                    continue\n",
    "                eeg_path = eeg_path[0]                \n",
    "\n",
    "                montage = mne.channels.make_standard_montage(\"GSN-HydroCel-129\")            \n",
    "                raw = acareeg.eegip.preprocessed_raw(eeg_path, acareeg.eegip.line_freqs[dataset], montage, \n",
    "                                                    apply_ica=False, verbose=False)\n",
    "                \n",
    "                events4 = acareeg.eegip.process_events_resting_state(raw, dataset, age, tmax=4)\n",
    "                if events4 is None:\n",
    "                    continue            \n",
    "                epochs4 = acareeg.eegip.process_epochs(raw, dataset, age, events4, tmin=0, tmax=4, verbose=False)     \n",
    "                \n",
    "                events2 = acareeg.eegip.process_events_resting_state(raw, dataset, age, tmax=2)\n",
    "                epochs2 = acareeg.eegip.process_epochs(raw, dataset, age, events2, tmin=0, tmax=2, verbose=False)\n",
    "\n",
    "                events1 = acareeg.eegip.process_events_resting_state(raw, dataset, age, tmax=1)\n",
    "                epochs1 = acareeg.eegip.process_epochs(raw, dataset, age, events2, tmin=0, tmax=1, verbose=False)            \n",
    "                duration1_raw.append(len(events1)) \n",
    "                duration1.append(len(epochs1)*2)            \n",
    "                duration2.append(len(epochs2)*2)\n",
    "                duration4.append(len(epochs4)*4)\n",
    "                assert(duration4[-1] <= duration2[-1])\n",
    "                \n",
    "                subjects.append(subject)\n",
    "                ages.append(age)\n",
    "                datasets.append(dataset)\n",
    "\n",
    "    durations_df = pd.DataFrame(dict(duration2=duration2, duration4=duration4, \n",
    "                                    subject=subjects, age=ages, duration1=duration1,\n",
    "                                    dataset=datasets, duration1_raw=duration1_raw))\n",
    "\n",
    "    durations_df.to_csv(save_file_name)\n",
    "else:\n",
    "    durations_df = pd.read_csv(save_file_name)"
   ]
  },
  {
   "attachments": {},
   "cell_type": "markdown",
   "metadata": {},
   "source": [
    "The interval of confidence for a normally distributed variable is proportional to the standard error (se) around the mean, which is defined as following: \n",
    "\n",
    "$$ se = \\frac{\\sigma}{\\sqrt{N}} $$\n",
    "\n",
    "with $N$ being the sample size and $\\sigma$ being the standard deviation.\n",
    "\n",
    "Thus, to reduce the interval of confidence (i.e., the level of noise on an averaged variable) by a proportion $\\alpha$, \n",
    "you need to increase the sample size by a proportion $\\beta$ such that\n",
    "\n",
    "$$ \\alpha = \\frac{se_2}{se_1} = \\frac{\\frac{\\sigma}{\\sqrt{\\beta N}}}{\\frac{\\sigma}{\\sqrt{N}}} = \\frac{1}{\\sqrt{\\beta}} $$\n",
    "\n",
    "So that to cut the interval of confidence in 2, you need a sample size 4 time larger; to cut it in 3, you need a sample size 9 times larger, ...\n"
   ]
  },
  {
   "cell_type": "code",
   "execution_count": 19,
   "metadata": {},
   "outputs": [
    {
     "name": "stdout",
     "output_type": "stream",
     "text": [
      "Mean recording duration available with 2s epochs: 107.6\n",
      "Mean recording duration available with 4s epochs: 121.7\n",
      "Average loss by using 4s epochs instead of 2s: 16.22%\n",
      "How much (in %) can the interval of confidence on the mean be reduced by using 2s epochs instead of 4s? In average 5.958%\n",
      "6 records get dropped with 4s because they have no epochs of that size.\n"
     ]
    }
   ],
   "source": [
    "print(f\"Mean recording duration available with 2s epochs: {durations_df.duration4.mean():.4}\")\n",
    "print(f\"Mean recording duration available with 4s epochs: {durations_df.duration2.mean():.4}\")\n",
    "print(f\"Average loss by using 4s epochs instead of 2s: {((durations_df.duration2 - durations_df.duration4)/durations_df.duration2*100).mean():.4}%\")\n",
    "\n",
    "beta = durations_df.duration2.mean()/durations_df.duration4.mean()\n",
    "print(f\"How much (in %) can the interval of confidence on the mean be reduced by using 2s epochs instead of 4s? In average {(1-1/np.sqrt(beta))*100:.4}%\")\n",
    "print(f\"{np.sum(durations_df.duration4 == 0)} records get dropped with 4s because they have no epochs of that size.\")\n"
   ]
  },
  {
   "cell_type": "code",
   "execution_count": 20,
   "metadata": {
    "scrolled": true
   },
   "outputs": [
    {
     "name": "stdout",
     "output_type": "stream",
     "text": [
      "duration1\n",
      "london 6 34.1 ± 17.0 [2-78]\n",
      "london 12 250.0 ± 106.2 [22-472]\n",
      "washington 6 93.7 ± 41.8 [6-206]\n",
      "washington 12 107.9 ± 47.6 [10-206]\n",
      "washington 18 152.7 ± 59.6 [8-262]\n",
      "duration1_raw\n",
      "london 6 64.5 ± 26.3 [40-170]\n",
      "london 12 395.8 ± 125.7 [66-734]\n",
      "washington 6 144.8 ± 50.1 [56-236]\n",
      "washington 12 157.9 ± 64.0 [31-333]\n",
      "washington 18 205.6 ± 60.3 [56-334]\n"
     ]
    },
    {
     "name": "stderr",
     "output_type": "stream",
     "text": [
      "/var/folders/3k/220tdhsn33709gq9ylr8c6kh0000gp/T/ipykernel_69990/2910659910.py:4: FutureWarning: Dropping of nuisance columns in DataFrame reductions (with 'numeric_only=None') is deprecated; in a future version this will raise TypeError.  Select only valid columns before calling the reduction.\n",
      "  print(dataset, age, f\"{df.mean()[col]:.1f} ± {df.std()[col]:.1f} [{df.min()[col]}-{df.max()[col]}]\")\n",
      "/var/folders/3k/220tdhsn33709gq9ylr8c6kh0000gp/T/ipykernel_69990/2910659910.py:4: FutureWarning: Dropping of nuisance columns in DataFrame reductions (with 'numeric_only=None') is deprecated; in a future version this will raise TypeError.  Select only valid columns before calling the reduction.\n",
      "  print(dataset, age, f\"{df.mean()[col]:.1f} ± {df.std()[col]:.1f} [{df.min()[col]}-{df.max()[col]}]\")\n"
     ]
    }
   ],
   "source": [
    "for col in [\"duration1\", \"duration1_raw\"]:\n",
    "    print(col)\n",
    "    for (dataset, age), df in durations_df.groupby([\"dataset\", \"age\"]):\n",
    "        print(dataset, age, f\"{df.mean()[col]:.1f} ± {df.std()[col]:.1f} [{df.min()[col]}-{df.max()[col]}]\")\n"
   ]
  },
  {
   "cell_type": "code",
   "execution_count": 21,
   "metadata": {},
   "outputs": [],
   "source": [
    "durations_df[\"dataset-age\"] = [f\"{dataset}-{age}\" for dataset, age in zip(durations_df.dataset, durations_df.age)]"
   ]
  },
  {
   "cell_type": "code",
   "execution_count": 22,
   "metadata": {},
   "outputs": [
    {
     "data": {
      "text/plain": [
       "(0.0, 495.5)"
      ]
     },
     "execution_count": 22,
     "metadata": {},
     "output_type": "execute_result"
    }
   ],
   "source": [
    "sns.histplot(x=\"duration1\", hue=\"dataset-age\", multiple=\"stack\", data=durations_df, binwidth=10, ax=axes[0])\n",
    "axes[0].axvline(x=20, color=\"k\", linestyle=\"dashed\")\n",
    "axes[0].set_xlabel(\"Number of 1s epochs\")\n",
    "axes[0].set_xlim(left=0)\n",
    "#plt.savefig(\"images/epoch_hist.png\", dpi=300)"
   ]
  },
  {
   "cell_type": "markdown",
   "metadata": {},
   "source": [
    "# Compute connectivity values for different sample sizes"
   ]
  },
  {
   "cell_type": "code",
   "execution_count": 23,
   "metadata": {},
   "outputs": [
    {
     "data": {
      "application/vnd.jupyter.widget-view+json": {
       "model_id": "6d4ed46b0a4a4201a1cdaf0bd5a6b89b",
       "version_major": 2,
       "version_minor": 0
      },
      "text/plain": [
       "  0%|          | 0/10 [00:00<?, ?it/s]"
      ]
     },
     "metadata": {},
     "output_type": "display_data"
    },
    {
     "data": {
      "application/vnd.jupyter.widget-view+json": {
       "model_id": "becbb106b50d42a5a977d37b4e318a03",
       "version_major": 2,
       "version_minor": 0
      },
      "text/plain": [
       "  0%|          | 0/3 [00:00<?, ?it/s]"
      ]
     },
     "metadata": {},
     "output_type": "display_data"
    },
    {
     "name": "stdout",
     "output_type": "stream",
     "text": [
      "Filtering raw data in 1 contiguous segment\n",
      "Setting up band-stop filter\n",
      "\n",
      "FIR filter parameters\n",
      "---------------------\n",
      "Designing a one-pass, zero-phase, non-causal bandstop filter:\n",
      "- Windowed time-domain design (firwin) method\n",
      "- Hamming window with 0.0194 passband ripple and 53 dB stopband attenuation\n",
      "- Lower transition bandwidth: 0.50 Hz\n",
      "- Upper transition bandwidth: 0.50 Hz\n",
      "- Filter length: 3301 samples (6.602 s)\n",
      "\n"
     ]
    },
    {
     "name": "stderr",
     "output_type": "stream",
     "text": [
      "/Users/christian/Code/acareeg/acareeg/eegip.py:154: RuntimeWarning: Omitted 1 annotation(s) that were outside data range.\n",
      "  raw = mne.io.read_raw_eeglab(path, preload=True, verbose=verbose)\n",
      "/Users/christian/Code/acareeg/acareeg/eegip.py:154: RuntimeWarning: The data contains 'boundary' events, indicating data discontinuities. Be cautious of filtering and epoching around these events.\n",
      "  raw = mne.io.read_raw_eeglab(path, preload=True, verbose=verbose)\n",
      "[Parallel(n_jobs=1)]: Using backend SequentialBackend with 1 concurrent workers.\n",
      "[Parallel(n_jobs=1)]: Done   1 out of   1 | elapsed:    0.0s remaining:    0.0s\n",
      "[Parallel(n_jobs=1)]: Done   2 out of   2 | elapsed:    0.0s remaining:    0.0s\n",
      "[Parallel(n_jobs=1)]: Done   3 out of   3 | elapsed:    0.0s remaining:    0.0s\n",
      "[Parallel(n_jobs=1)]: Done   4 out of   4 | elapsed:    0.0s remaining:    0.0s\n",
      "[Parallel(n_jobs=1)]: Done 129 out of 129 | elapsed:    0.6s finished\n",
      "/Users/christian/Code/acareeg/acareeg/eegip.py:95: RuntimeWarning: Estimated head radius (10138.0 cm) is above the 99th percentile for adult head size. Check if the montage_units argument is correct (the default is \"mm\", but your channel positions may be in different units).\n",
      "  info, _, _ = _get_info(raw_eeg)\n"
     ]
    },
    {
     "name": "stdout",
     "output_type": "stream",
     "text": [
      "Applying ICA to Raw instance\n",
      "    Transforming to ICA space (99 components)\n",
      "    Zeroing out 29 ICA components\n",
      "    Projecting back using 99 PCA components\n"
     ]
    },
    {
     "name": "stderr",
     "output_type": "stream",
     "text": [
      "/Users/christian/Code/acareeg/acareeg/eegip.py:147: RuntimeWarning: Estimated head radius (10138.0 cm) is above the 99th percentile for adult head size. Check if the montage_units argument is correct (the default is \"mm\", but your channel positions may be in different units).\n",
      "  read_ica_eeglab(file_name).apply(raw, exclude=ind_comp_to_drop)\n"
     ]
    },
    {
     "data": {
      "application/vnd.jupyter.widget-view+json": {
       "model_id": "773fefe214de4ee7adab1eefae1020b2",
       "version_major": 2,
       "version_minor": 0
      },
      "text/plain": [
       "  0%|          | 0/3 [00:00<?, ?it/s]"
      ]
     },
     "metadata": {},
     "output_type": "display_data"
    },
    {
     "name": "stdout",
     "output_type": "stream",
     "text": [
      "Filtering raw data in 1 contiguous segment\n",
      "Setting up band-stop filter\n",
      "\n",
      "FIR filter parameters\n",
      "---------------------\n",
      "Designing a one-pass, zero-phase, non-causal bandstop filter:\n",
      "- Windowed time-domain design (firwin) method\n",
      "- Hamming window with 0.0194 passband ripple and 53 dB stopband attenuation\n",
      "- Lower transition bandwidth: 0.50 Hz\n",
      "- Upper transition bandwidth: 0.50 Hz\n",
      "- Filter length: 3301 samples (6.602 s)\n",
      "\n"
     ]
    },
    {
     "name": "stderr",
     "output_type": "stream",
     "text": [
      "[Parallel(n_jobs=1)]: Using backend SequentialBackend with 1 concurrent workers.\n",
      "[Parallel(n_jobs=1)]: Done   1 out of   1 | elapsed:    0.0s remaining:    0.0s\n",
      "[Parallel(n_jobs=1)]: Done   2 out of   2 | elapsed:    0.0s remaining:    0.0s\n",
      "[Parallel(n_jobs=1)]: Done   3 out of   3 | elapsed:    0.0s remaining:    0.0s\n",
      "[Parallel(n_jobs=1)]: Done   4 out of   4 | elapsed:    0.1s remaining:    0.0s\n",
      "[Parallel(n_jobs=1)]: Done 129 out of 129 | elapsed:    1.8s finished\n",
      "/Users/christian/Code/acareeg/acareeg/eegip.py:95: RuntimeWarning: Estimated head radius (10138.0 cm) is above the 99th percentile for adult head size. Check if the montage_units argument is correct (the default is \"mm\", but your channel positions may be in different units).\n",
      "  info, _, _ = _get_info(raw_eeg)\n"
     ]
    },
    {
     "name": "stdout",
     "output_type": "stream",
     "text": [
      "Applying ICA to Raw instance\n",
      "    Transforming to ICA space (107 components)\n",
      "    Zeroing out 42 ICA components\n",
      "    Projecting back using 107 PCA components\n"
     ]
    },
    {
     "name": "stderr",
     "output_type": "stream",
     "text": [
      "/Users/christian/Code/acareeg/acareeg/eegip.py:147: RuntimeWarning: Estimated head radius (10138.0 cm) is above the 99th percentile for adult head size. Check if the montage_units argument is correct (the default is \"mm\", but your channel positions may be in different units).\n",
      "  read_ica_eeglab(file_name).apply(raw, exclude=ind_comp_to_drop)\n"
     ]
    },
    {
     "data": {
      "application/vnd.jupyter.widget-view+json": {
       "model_id": "e0d885ee9df64a16914a9cc8eff6f989",
       "version_major": 2,
       "version_minor": 0
      },
      "text/plain": [
       "  0%|          | 0/3 [00:00<?, ?it/s]"
      ]
     },
     "metadata": {},
     "output_type": "display_data"
    },
    {
     "name": "stdout",
     "output_type": "stream",
     "text": [
      "Filtering raw data in 1 contiguous segment\n",
      "Setting up band-stop filter\n",
      "\n",
      "FIR filter parameters\n",
      "---------------------\n",
      "Designing a one-pass, zero-phase, non-causal bandstop filter:\n",
      "- Windowed time-domain design (firwin) method\n",
      "- Hamming window with 0.0194 passband ripple and 53 dB stopband attenuation\n",
      "- Lower transition bandwidth: 0.50 Hz\n",
      "- Upper transition bandwidth: 0.50 Hz\n",
      "- Filter length: 3301 samples (6.602 s)\n",
      "\n"
     ]
    },
    {
     "name": "stderr",
     "output_type": "stream",
     "text": [
      "/Users/christian/Code/acareeg/acareeg/eegip.py:154: RuntimeWarning: Omitted 1 annotation(s) that were outside data range.\n",
      "  raw = mne.io.read_raw_eeglab(path, preload=True, verbose=verbose)\n",
      "[Parallel(n_jobs=1)]: Using backend SequentialBackend with 1 concurrent workers.\n",
      "[Parallel(n_jobs=1)]: Done   1 out of   1 | elapsed:    0.0s remaining:    0.0s\n",
      "[Parallel(n_jobs=1)]: Done   2 out of   2 | elapsed:    0.0s remaining:    0.0s\n",
      "[Parallel(n_jobs=1)]: Done   3 out of   3 | elapsed:    0.1s remaining:    0.0s\n",
      "[Parallel(n_jobs=1)]: Done   4 out of   4 | elapsed:    0.1s remaining:    0.0s\n",
      "[Parallel(n_jobs=1)]: Done 129 out of 129 | elapsed:    2.4s finished\n",
      "/Users/christian/Code/acareeg/acareeg/eegip.py:95: RuntimeWarning: Estimated head radius (10138.0 cm) is above the 99th percentile for adult head size. Check if the montage_units argument is correct (the default is \"mm\", but your channel positions may be in different units).\n",
      "  info, _, _ = _get_info(raw_eeg)\n"
     ]
    },
    {
     "name": "stdout",
     "output_type": "stream",
     "text": [
      "Applying ICA to Raw instance\n"
     ]
    },
    {
     "name": "stderr",
     "output_type": "stream",
     "text": [
      "/Users/christian/Code/acareeg/acareeg/eegip.py:147: RuntimeWarning: Estimated head radius (10138.0 cm) is above the 99th percentile for adult head size. Check if the montage_units argument is correct (the default is \"mm\", but your channel positions may be in different units).\n",
      "  read_ica_eeglab(file_name).apply(raw, exclude=ind_comp_to_drop)\n"
     ]
    },
    {
     "name": "stdout",
     "output_type": "stream",
     "text": [
      "    Transforming to ICA space (114 components)\n",
      "    Zeroing out 83 ICA components\n",
      "    Projecting back using 114 PCA components\n"
     ]
    },
    {
     "data": {
      "application/vnd.jupyter.widget-view+json": {
       "model_id": "e059503e53de44d7b0fa8d5208945467",
       "version_major": 2,
       "version_minor": 0
      },
      "text/plain": [
       "  0%|          | 0/3 [00:00<?, ?it/s]"
      ]
     },
     "metadata": {},
     "output_type": "display_data"
    },
    {
     "name": "stdout",
     "output_type": "stream",
     "text": [
      "Filtering raw data in 1 contiguous segment\n",
      "Setting up band-stop filter\n",
      "\n",
      "FIR filter parameters\n",
      "---------------------\n",
      "Designing a one-pass, zero-phase, non-causal bandstop filter:\n",
      "- Windowed time-domain design (firwin) method\n",
      "- Hamming window with 0.0194 passband ripple and 53 dB stopband attenuation\n",
      "- Lower transition bandwidth: 0.50 Hz\n",
      "- Upper transition bandwidth: 0.50 Hz\n",
      "- Filter length: 3301 samples (6.602 s)\n",
      "\n"
     ]
    },
    {
     "name": "stderr",
     "output_type": "stream",
     "text": [
      "/Users/christian/Code/acareeg/acareeg/eegip.py:154: RuntimeWarning: Omitted 1 annotation(s) that were outside data range.\n",
      "  raw = mne.io.read_raw_eeglab(path, preload=True, verbose=verbose)\n",
      "/Users/christian/Code/acareeg/acareeg/eegip.py:154: RuntimeWarning: The data contains 'boundary' events, indicating data discontinuities. Be cautious of filtering and epoching around these events.\n",
      "  raw = mne.io.read_raw_eeglab(path, preload=True, verbose=verbose)\n",
      "[Parallel(n_jobs=1)]: Using backend SequentialBackend with 1 concurrent workers.\n",
      "[Parallel(n_jobs=1)]: Done   1 out of   1 | elapsed:    0.0s remaining:    0.0s\n",
      "[Parallel(n_jobs=1)]: Done   2 out of   2 | elapsed:    0.0s remaining:    0.0s\n",
      "[Parallel(n_jobs=1)]: Done   3 out of   3 | elapsed:    0.0s remaining:    0.0s\n",
      "[Parallel(n_jobs=1)]: Done   4 out of   4 | elapsed:    0.0s remaining:    0.0s\n",
      "[Parallel(n_jobs=1)]: Done 129 out of 129 | elapsed:    1.5s finished\n",
      "/Users/christian/Code/acareeg/acareeg/eegip.py:95: RuntimeWarning: Estimated head radius (10138.0 cm) is above the 99th percentile for adult head size. Check if the montage_units argument is correct (the default is \"mm\", but your channel positions may be in different units).\n",
      "  info, _, _ = _get_info(raw_eeg)\n"
     ]
    },
    {
     "name": "stdout",
     "output_type": "stream",
     "text": [
      "Applying ICA to Raw instance\n",
      "    Transforming to ICA space (102 components)\n",
      "    Zeroing out 53 ICA components\n",
      "    Projecting back using 102 PCA components\n"
     ]
    },
    {
     "name": "stderr",
     "output_type": "stream",
     "text": [
      "/Users/christian/Code/acareeg/acareeg/eegip.py:147: RuntimeWarning: Estimated head radius (10138.0 cm) is above the 99th percentile for adult head size. Check if the montage_units argument is correct (the default is \"mm\", but your channel positions may be in different units).\n",
      "  read_ica_eeglab(file_name).apply(raw, exclude=ind_comp_to_drop)\n"
     ]
    },
    {
     "data": {
      "application/vnd.jupyter.widget-view+json": {
       "model_id": "917cfb003ff44f81bdf9e40a374785f7",
       "version_major": 2,
       "version_minor": 0
      },
      "text/plain": [
       "  0%|          | 0/3 [00:00<?, ?it/s]"
      ]
     },
     "metadata": {},
     "output_type": "display_data"
    },
    {
     "name": "stdout",
     "output_type": "stream",
     "text": [
      "Filtering raw data in 1 contiguous segment\n",
      "Setting up band-stop filter\n",
      "\n",
      "FIR filter parameters\n",
      "---------------------\n",
      "Designing a one-pass, zero-phase, non-causal bandstop filter:\n",
      "- Windowed time-domain design (firwin) method\n",
      "- Hamming window with 0.0194 passband ripple and 53 dB stopband attenuation\n",
      "- Lower transition bandwidth: 0.50 Hz\n",
      "- Upper transition bandwidth: 0.50 Hz\n",
      "- Filter length: 3301 samples (6.602 s)\n",
      "\n"
     ]
    },
    {
     "name": "stderr",
     "output_type": "stream",
     "text": [
      "/Users/christian/Code/acareeg/acareeg/eegip.py:154: RuntimeWarning: The data contains 'boundary' events, indicating data discontinuities. Be cautious of filtering and epoching around these events.\n",
      "  raw = mne.io.read_raw_eeglab(path, preload=True, verbose=verbose)\n",
      "[Parallel(n_jobs=1)]: Using backend SequentialBackend with 1 concurrent workers.\n",
      "[Parallel(n_jobs=1)]: Done   1 out of   1 | elapsed:    0.0s remaining:    0.0s\n",
      "[Parallel(n_jobs=1)]: Done   2 out of   2 | elapsed:    0.0s remaining:    0.0s\n",
      "[Parallel(n_jobs=1)]: Done   3 out of   3 | elapsed:    0.0s remaining:    0.0s\n",
      "[Parallel(n_jobs=1)]: Done   4 out of   4 | elapsed:    0.0s remaining:    0.0s\n",
      "[Parallel(n_jobs=1)]: Done 129 out of 129 | elapsed:    0.8s finished\n",
      "/Users/christian/Code/acareeg/acareeg/eegip.py:95: RuntimeWarning: Estimated head radius (10138.0 cm) is above the 99th percentile for adult head size. Check if the montage_units argument is correct (the default is \"mm\", but your channel positions may be in different units).\n",
      "  info, _, _ = _get_info(raw_eeg)\n"
     ]
    },
    {
     "name": "stdout",
     "output_type": "stream",
     "text": [
      "Applying ICA to Raw instance\n",
      "    Transforming to ICA space (113 components)\n",
      "    Zeroing out 35 ICA components\n",
      "    Projecting back using 113 PCA components\n"
     ]
    },
    {
     "name": "stderr",
     "output_type": "stream",
     "text": [
      "/Users/christian/Code/acareeg/acareeg/eegip.py:147: RuntimeWarning: Estimated head radius (10138.0 cm) is above the 99th percentile for adult head size. Check if the montage_units argument is correct (the default is \"mm\", but your channel positions may be in different units).\n",
      "  read_ica_eeglab(file_name).apply(raw, exclude=ind_comp_to_drop)\n"
     ]
    },
    {
     "data": {
      "application/vnd.jupyter.widget-view+json": {
       "model_id": "44ac01803b0b4deb986d7628b6a5e153",
       "version_major": 2,
       "version_minor": 0
      },
      "text/plain": [
       "  0%|          | 0/3 [00:00<?, ?it/s]"
      ]
     },
     "metadata": {},
     "output_type": "display_data"
    },
    {
     "name": "stdout",
     "output_type": "stream",
     "text": [
      "Filtering raw data in 1 contiguous segment\n",
      "Setting up band-stop filter\n",
      "\n",
      "FIR filter parameters\n",
      "---------------------\n",
      "Designing a one-pass, zero-phase, non-causal bandstop filter:\n",
      "- Windowed time-domain design (firwin) method\n",
      "- Hamming window with 0.0194 passband ripple and 53 dB stopband attenuation\n",
      "- Lower transition bandwidth: 0.50 Hz\n",
      "- Upper transition bandwidth: 0.50 Hz\n",
      "- Filter length: 3301 samples (6.602 s)\n",
      "\n"
     ]
    },
    {
     "name": "stderr",
     "output_type": "stream",
     "text": [
      "/Users/christian/Code/acareeg/acareeg/eegip.py:154: RuntimeWarning: Omitted 1 annotation(s) that were outside data range.\n",
      "  raw = mne.io.read_raw_eeglab(path, preload=True, verbose=verbose)\n",
      "[Parallel(n_jobs=1)]: Using backend SequentialBackend with 1 concurrent workers.\n",
      "[Parallel(n_jobs=1)]: Done   1 out of   1 | elapsed:    0.0s remaining:    0.0s\n",
      "[Parallel(n_jobs=1)]: Done   2 out of   2 | elapsed:    0.0s remaining:    0.0s\n",
      "[Parallel(n_jobs=1)]: Done   3 out of   3 | elapsed:    0.0s remaining:    0.0s\n",
      "[Parallel(n_jobs=1)]: Done   4 out of   4 | elapsed:    0.0s remaining:    0.0s\n",
      "[Parallel(n_jobs=1)]: Done 129 out of 129 | elapsed:    1.0s finished\n",
      "/Users/christian/Code/acareeg/acareeg/eegip.py:95: RuntimeWarning: Estimated head radius (10138.0 cm) is above the 99th percentile for adult head size. Check if the montage_units argument is correct (the default is \"mm\", but your channel positions may be in different units).\n",
      "  info, _, _ = _get_info(raw_eeg)\n"
     ]
    },
    {
     "name": "stdout",
     "output_type": "stream",
     "text": [
      "Applying ICA to Raw instance\n",
      "    Transforming to ICA space (107 components)\n",
      "    Zeroing out 42 ICA components\n",
      "    Projecting back using 107 PCA components\n"
     ]
    },
    {
     "name": "stderr",
     "output_type": "stream",
     "text": [
      "/Users/christian/Code/acareeg/acareeg/eegip.py:147: RuntimeWarning: Estimated head radius (10138.0 cm) is above the 99th percentile for adult head size. Check if the montage_units argument is correct (the default is \"mm\", but your channel positions may be in different units).\n",
      "  read_ica_eeglab(file_name).apply(raw, exclude=ind_comp_to_drop)\n"
     ]
    },
    {
     "data": {
      "application/vnd.jupyter.widget-view+json": {
       "model_id": "c9945d0ca3f5496586f932f0e9b8e01d",
       "version_major": 2,
       "version_minor": 0
      },
      "text/plain": [
       "  0%|          | 0/3 [00:00<?, ?it/s]"
      ]
     },
     "metadata": {},
     "output_type": "display_data"
    },
    {
     "name": "stdout",
     "output_type": "stream",
     "text": [
      "Filtering raw data in 1 contiguous segment\n",
      "Setting up band-stop filter\n",
      "\n",
      "FIR filter parameters\n",
      "---------------------\n",
      "Designing a one-pass, zero-phase, non-causal bandstop filter:\n",
      "- Windowed time-domain design (firwin) method\n",
      "- Hamming window with 0.0194 passband ripple and 53 dB stopband attenuation\n",
      "- Lower transition bandwidth: 0.50 Hz\n",
      "- Upper transition bandwidth: 0.50 Hz\n",
      "- Filter length: 3301 samples (6.602 s)\n",
      "\n"
     ]
    },
    {
     "name": "stderr",
     "output_type": "stream",
     "text": [
      "[Parallel(n_jobs=1)]: Using backend SequentialBackend with 1 concurrent workers.\n",
      "[Parallel(n_jobs=1)]: Done   1 out of   1 | elapsed:    0.0s remaining:    0.0s\n",
      "[Parallel(n_jobs=1)]: Done   2 out of   2 | elapsed:    0.0s remaining:    0.0s\n",
      "[Parallel(n_jobs=1)]: Done   3 out of   3 | elapsed:    0.0s remaining:    0.0s\n",
      "[Parallel(n_jobs=1)]: Done   4 out of   4 | elapsed:    0.0s remaining:    0.0s\n",
      "[Parallel(n_jobs=1)]: Done 129 out of 129 | elapsed:    1.3s finished\n",
      "/Users/christian/Code/acareeg/acareeg/eegip.py:95: RuntimeWarning: Estimated head radius (10138.0 cm) is above the 99th percentile for adult head size. Check if the montage_units argument is correct (the default is \"mm\", but your channel positions may be in different units).\n",
      "  info, _, _ = _get_info(raw_eeg)\n"
     ]
    },
    {
     "name": "stdout",
     "output_type": "stream",
     "text": [
      "Applying ICA to Raw instance\n",
      "    Transforming to ICA space (105 components)\n",
      "    Zeroing out 52 ICA components\n",
      "    Projecting back using 105 PCA components\n"
     ]
    },
    {
     "name": "stderr",
     "output_type": "stream",
     "text": [
      "/Users/christian/Code/acareeg/acareeg/eegip.py:147: RuntimeWarning: Estimated head radius (10138.0 cm) is above the 99th percentile for adult head size. Check if the montage_units argument is correct (the default is \"mm\", but your channel positions may be in different units).\n",
      "  read_ica_eeglab(file_name).apply(raw, exclude=ind_comp_to_drop)\n"
     ]
    },
    {
     "data": {
      "application/vnd.jupyter.widget-view+json": {
       "model_id": "96f9d0bd74ae41349eec94ebb5044062",
       "version_major": 2,
       "version_minor": 0
      },
      "text/plain": [
       "  0%|          | 0/3 [00:00<?, ?it/s]"
      ]
     },
     "metadata": {},
     "output_type": "display_data"
    },
    {
     "name": "stdout",
     "output_type": "stream",
     "text": [
      "Filtering raw data in 1 contiguous segment\n",
      "Setting up band-stop filter\n",
      "\n",
      "FIR filter parameters\n",
      "---------------------\n",
      "Designing a one-pass, zero-phase, non-causal bandstop filter:\n",
      "- Windowed time-domain design (firwin) method\n",
      "- Hamming window with 0.0194 passband ripple and 53 dB stopband attenuation\n",
      "- Lower transition bandwidth: 0.50 Hz\n",
      "- Upper transition bandwidth: 0.50 Hz\n",
      "- Filter length: 3301 samples (6.602 s)\n",
      "\n"
     ]
    },
    {
     "name": "stderr",
     "output_type": "stream",
     "text": [
      "/Users/christian/Code/acareeg/acareeg/eegip.py:154: RuntimeWarning: Omitted 1 annotation(s) that were outside data range.\n",
      "  raw = mne.io.read_raw_eeglab(path, preload=True, verbose=verbose)\n",
      "[Parallel(n_jobs=1)]: Using backend SequentialBackend with 1 concurrent workers.\n",
      "[Parallel(n_jobs=1)]: Done   1 out of   1 | elapsed:    0.0s remaining:    0.0s\n",
      "[Parallel(n_jobs=1)]: Done   2 out of   2 | elapsed:    0.0s remaining:    0.0s\n",
      "[Parallel(n_jobs=1)]: Done   3 out of   3 | elapsed:    0.0s remaining:    0.0s\n",
      "[Parallel(n_jobs=1)]: Done   4 out of   4 | elapsed:    0.0s remaining:    0.0s\n",
      "[Parallel(n_jobs=1)]: Done 129 out of 129 | elapsed:    1.3s finished\n",
      "/Users/christian/Code/acareeg/acareeg/eegip.py:95: RuntimeWarning: Estimated head radius (10138.0 cm) is above the 99th percentile for adult head size. Check if the montage_units argument is correct (the default is \"mm\", but your channel positions may be in different units).\n",
      "  info, _, _ = _get_info(raw_eeg)\n"
     ]
    },
    {
     "name": "stdout",
     "output_type": "stream",
     "text": [
      "Applying ICA to Raw instance\n",
      "    Transforming to ICA space (99 components)\n",
      "    Zeroing out 80 ICA components\n",
      "    Projecting back using 99 PCA components\n"
     ]
    },
    {
     "name": "stderr",
     "output_type": "stream",
     "text": [
      "/Users/christian/Code/acareeg/acareeg/eegip.py:147: RuntimeWarning: Estimated head radius (10138.0 cm) is above the 99th percentile for adult head size. Check if the montage_units argument is correct (the default is \"mm\", but your channel positions may be in different units).\n",
      "  read_ica_eeglab(file_name).apply(raw, exclude=ind_comp_to_drop)\n"
     ]
    },
    {
     "data": {
      "application/vnd.jupyter.widget-view+json": {
       "model_id": "d8bd3175d27748a9b99c11c91d46da65",
       "version_major": 2,
       "version_minor": 0
      },
      "text/plain": [
       "  0%|          | 0/3 [00:00<?, ?it/s]"
      ]
     },
     "metadata": {},
     "output_type": "display_data"
    },
    {
     "name": "stdout",
     "output_type": "stream",
     "text": [
      "Filtering raw data in 1 contiguous segment\n",
      "Setting up band-stop filter\n",
      "\n",
      "FIR filter parameters\n",
      "---------------------\n",
      "Designing a one-pass, zero-phase, non-causal bandstop filter:\n",
      "- Windowed time-domain design (firwin) method\n",
      "- Hamming window with 0.0194 passband ripple and 53 dB stopband attenuation\n",
      "- Lower transition bandwidth: 0.50 Hz\n",
      "- Upper transition bandwidth: 0.50 Hz\n",
      "- Filter length: 3301 samples (6.602 s)\n",
      "\n"
     ]
    },
    {
     "name": "stderr",
     "output_type": "stream",
     "text": [
      "[Parallel(n_jobs=1)]: Using backend SequentialBackend with 1 concurrent workers.\n",
      "[Parallel(n_jobs=1)]: Done   1 out of   1 | elapsed:    0.0s remaining:    0.0s\n",
      "[Parallel(n_jobs=1)]: Done   2 out of   2 | elapsed:    0.0s remaining:    0.0s\n",
      "[Parallel(n_jobs=1)]: Done   3 out of   3 | elapsed:    0.0s remaining:    0.0s\n",
      "[Parallel(n_jobs=1)]: Done   4 out of   4 | elapsed:    0.0s remaining:    0.0s\n",
      "[Parallel(n_jobs=1)]: Done 129 out of 129 | elapsed:    1.1s finished\n",
      "/Users/christian/Code/acareeg/acareeg/eegip.py:95: RuntimeWarning: Estimated head radius (10138.0 cm) is above the 99th percentile for adult head size. Check if the montage_units argument is correct (the default is \"mm\", but your channel positions may be in different units).\n",
      "  info, _, _ = _get_info(raw_eeg)\n"
     ]
    },
    {
     "name": "stdout",
     "output_type": "stream",
     "text": [
      "Applying ICA to Raw instance\n",
      "    Transforming to ICA space (108 components)\n",
      "    Zeroing out 37 ICA components\n",
      "    Projecting back using 108 PCA components\n"
     ]
    },
    {
     "name": "stderr",
     "output_type": "stream",
     "text": [
      "/Users/christian/Code/acareeg/acareeg/eegip.py:147: RuntimeWarning: Estimated head radius (10138.0 cm) is above the 99th percentile for adult head size. Check if the montage_units argument is correct (the default is \"mm\", but your channel positions may be in different units).\n",
      "  read_ica_eeglab(file_name).apply(raw, exclude=ind_comp_to_drop)\n"
     ]
    },
    {
     "data": {
      "application/vnd.jupyter.widget-view+json": {
       "model_id": "1d7c02162bbe46ae96d64f069d9e63f4",
       "version_major": 2,
       "version_minor": 0
      },
      "text/plain": [
       "  0%|          | 0/3 [00:00<?, ?it/s]"
      ]
     },
     "metadata": {},
     "output_type": "display_data"
    },
    {
     "name": "stdout",
     "output_type": "stream",
     "text": [
      "Filtering raw data in 1 contiguous segment\n",
      "Setting up band-stop filter\n",
      "\n",
      "FIR filter parameters\n",
      "---------------------\n",
      "Designing a one-pass, zero-phase, non-causal bandstop filter:\n",
      "- Windowed time-domain design (firwin) method\n",
      "- Hamming window with 0.0194 passband ripple and 53 dB stopband attenuation\n",
      "- Lower transition bandwidth: 0.50 Hz\n",
      "- Upper transition bandwidth: 0.50 Hz\n",
      "- Filter length: 3301 samples (6.602 s)\n",
      "\n"
     ]
    },
    {
     "name": "stderr",
     "output_type": "stream",
     "text": [
      "[Parallel(n_jobs=1)]: Using backend SequentialBackend with 1 concurrent workers.\n",
      "[Parallel(n_jobs=1)]: Done   1 out of   1 | elapsed:    0.0s remaining:    0.0s\n",
      "[Parallel(n_jobs=1)]: Done   2 out of   2 | elapsed:    0.0s remaining:    0.0s\n",
      "[Parallel(n_jobs=1)]: Done   3 out of   3 | elapsed:    0.0s remaining:    0.0s\n",
      "[Parallel(n_jobs=1)]: Done   4 out of   4 | elapsed:    0.0s remaining:    0.0s\n",
      "[Parallel(n_jobs=1)]: Done 129 out of 129 | elapsed:    1.3s finished\n",
      "/Users/christian/Code/acareeg/acareeg/eegip.py:95: RuntimeWarning: Estimated head radius (10138.0 cm) is above the 99th percentile for adult head size. Check if the montage_units argument is correct (the default is \"mm\", but your channel positions may be in different units).\n",
      "  info, _, _ = _get_info(raw_eeg)\n"
     ]
    },
    {
     "name": "stdout",
     "output_type": "stream",
     "text": [
      "Applying ICA to Raw instance\n",
      "    Transforming to ICA space (108 components)\n",
      "    Zeroing out 75 ICA components\n",
      "    Projecting back using 108 PCA components\n"
     ]
    },
    {
     "name": "stderr",
     "output_type": "stream",
     "text": [
      "/Users/christian/Code/acareeg/acareeg/eegip.py:147: RuntimeWarning: Estimated head radius (10138.0 cm) is above the 99th percentile for adult head size. Check if the montage_units argument is correct (the default is \"mm\", but your channel positions may be in different units).\n",
      "  read_ica_eeglab(file_name).apply(raw, exclude=ind_comp_to_drop)\n"
     ]
    }
   ],
   "source": [
    "con_path = Path(\"/Volumes/usc_data/ElementSE/eegip/test_effect_nb_epochs/\")\n",
    "bids_root = Path(\"/Volumes/usc_data/ElementSE/eegip\")\n",
    "\n",
    "recompute = False\n",
    "\n",
    "nb_iters = 10\n",
    "con_name = \"ciplv\"\n",
    "np.random.seed(324234)\n",
    "mastersheet_df = get_mastersheet().reset_index()\n",
    "nb_epochs_lst = np.round(np.logspace(np.log(3), np.log(100), 10, base=np.e)).astype(int)\n",
    "\n",
    "for _, row in tqdm(list(mastersheet_df.iterrows())[:10], leave=False):\n",
    "    for age in tqdm([6, 12, 18]):   \n",
    "\n",
    "        file_name = con_path / f\"{age}_{row['Site'].lower()}_{row['ID'].replace('EC', '')}_{con_name}.csv\"\n",
    "\n",
    "        if file_name.exists() and not recompute:\n",
    "            continue \n",
    "        epochs = get_resting_state_epochs(row[\"ID\"].replace(\"EC\", \"\"), \n",
    "                                          row[\"Site\"].lower(), age,\n",
    "                                          bids_root=bids_root, tmax=1)\n",
    "        if epochs is None:\n",
    "            continue\n",
    "            \n",
    "        dfs = []\n",
    "        for nb_epochs in tqdm(nb_epochs_lst):\n",
    "            for _ in tqdm(list(range(nb_iters)), leave=False):\n",
    "                if len(epochs) < nb_epochs:\n",
    "                    continue\n",
    "                inds = np.random.choice(np.arange(len(epochs)), nb_epochs, replace=True)\n",
    "\n",
    "                con = mne_connectivity.spectral_connectivity_epochs(epochs[inds], method=con_name,\n",
    "                                                                    sfreq=epochs.info[\"sfreq\"],\n",
    "                                                                    faverage=True, verbose=False)\n",
    "                con = con.get_data(\"dense\").squeeze()\n",
    "                df = pd.DataFrame(con + np.triu(np.ones_like(con)*np.nan), \n",
    "                                  index=epochs.ch_names, \n",
    "                                  columns=epochs.ch_names)\n",
    "                df = df.melt(ignore_index=False).dropna().reset_index()\n",
    "                df.columns = [\"ch1\", \"ch2\", \"con\"]\n",
    "                df[\"nb_epochs\"] = nb_epochs        \n",
    "                dfs.append(df)\n",
    "\n",
    "        dat = pd.concat(dfs)\n",
    "        dat[\"age\"] = age\n",
    "        dat[\"dataset\"] = row[\"Site\"].lower()\n",
    "        dat[\"subject\"] = row[\"ID\"].replace(\"EC\", \"\")\n",
    "        dat.to_csv(file_name)      "
   ]
  },
  {
   "cell_type": "markdown",
   "metadata": {},
   "source": [
    "### Showing the systematic effect of sample size on connectivity values"
   ]
  },
  {
   "cell_type": "code",
   "execution_count": 24,
   "metadata": {},
   "outputs": [],
   "source": [
    "con_path = Path(\"/Volumes/usc_data/ElementSE/eegip/test_effect_nb_epochs/\")\n",
    "\n",
    "dfs = []\n",
    "for con_name in [\"ciplv\"]:\n",
    "    df = pd.concat([pd.read_csv(path) for path in con_path.glob(f\"*_{con_name}.csv\")])\n",
    "    df[\"measure\"] = con_name\n",
    "    dfs.append(df)\n",
    "df_effect_nb_epochs = pd.concat(dfs)"
   ]
  },
  {
   "cell_type": "code",
   "execution_count": 25,
   "metadata": {},
   "outputs": [
    {
     "data": {
      "text/plain": [
       "(0.1, 0.4)"
      ]
     },
     "execution_count": 25,
     "metadata": {},
     "output_type": "execute_result"
    }
   ],
   "source": [
    "sns.lineplot(x=\"nb_epochs\", y=\"con\", data=df_effect_nb_epochs, ax=axes[1])\n",
    "axes[1].set_xlabel(\"Number of 1s epochs\")\n",
    "axes[1].set_ylabel(\"CIPLV\")\n",
    "axes[1].axvline(x=20, linestyle=\"dashed\", color=\"k\")\n",
    "axes[1].set_xlim(0, 100)\n",
    "axes[1].set_ylim(0.1, 0.4)\n",
    "#plt.savefig(\"images/epoch_nb_bias_CIPLV.png\", dpi=300)"
   ]
  },
  {
   "attachments": {},
   "cell_type": "markdown",
   "metadata": {},
   "source": [
    "# Computing the STD of bootstrapped estimates of functional connectivity for wpli and ciplv\n",
    "\n",
    "This is an example using only one subject. This subject has been chosen randomly (i.e., not cherry-picked)."
   ]
  },
  {
   "cell_type": "code",
   "execution_count": 26,
   "metadata": {},
   "outputs": [],
   "source": [
    "subject_no = 2\n",
    "dataset = \"washington\"\n",
    "age = 12"
   ]
  },
  {
   "cell_type": "code",
   "execution_count": 27,
   "metadata": {},
   "outputs": [
    {
     "name": "stdout",
     "output_type": "stream",
     "text": [
      "Filtering raw data in 1 contiguous segment\n",
      "Setting up band-stop filter\n",
      "\n",
      "FIR filter parameters\n",
      "---------------------\n",
      "Designing a one-pass, zero-phase, non-causal bandstop filter:\n",
      "- Windowed time-domain design (firwin) method\n",
      "- Hamming window with 0.0194 passband ripple and 53 dB stopband attenuation\n",
      "- Lower transition bandwidth: 0.50 Hz\n",
      "- Upper transition bandwidth: 0.50 Hz\n",
      "- Filter length: 3301 samples (6.602 s)\n",
      "\n"
     ]
    },
    {
     "name": "stderr",
     "output_type": "stream",
     "text": [
      "/Users/christian/Code/acareeg/acareeg/eegip.py:154: RuntimeWarning: The data contains 'boundary' events, indicating data discontinuities. Be cautious of filtering and epoching around these events.\n",
      "  raw = mne.io.read_raw_eeglab(path, preload=True, verbose=verbose)\n",
      "[Parallel(n_jobs=1)]: Using backend SequentialBackend with 1 concurrent workers.\n",
      "[Parallel(n_jobs=1)]: Done   1 out of   1 | elapsed:    0.0s remaining:    0.0s\n",
      "[Parallel(n_jobs=1)]: Done   2 out of   2 | elapsed:    0.1s remaining:    0.0s\n",
      "[Parallel(n_jobs=1)]: Done   3 out of   3 | elapsed:    0.1s remaining:    0.0s\n",
      "[Parallel(n_jobs=1)]: Done   4 out of   4 | elapsed:    0.1s remaining:    0.0s\n",
      "[Parallel(n_jobs=1)]: Done 129 out of 129 | elapsed:    4.8s finished\n",
      "/Users/christian/Code/acareeg/acareeg/eegip.py:95: RuntimeWarning: Estimated head radius (10101.3 cm) is above the 99th percentile for adult head size. Check if the montage_units argument is correct (the default is \"mm\", but your channel positions may be in different units).\n",
      "  info, _, _ = _get_info(raw_eeg)\n"
     ]
    },
    {
     "name": "stdout",
     "output_type": "stream",
     "text": [
      "Applying ICA to Raw instance\n"
     ]
    },
    {
     "name": "stderr",
     "output_type": "stream",
     "text": [
      "/Users/christian/Code/acareeg/acareeg/eegip.py:147: RuntimeWarning: Estimated head radius (10101.3 cm) is above the 99th percentile for adult head size. Check if the montage_units argument is correct (the default is \"mm\", but your channel positions may be in different units).\n",
      "  read_ica_eeglab(file_name).apply(raw, exclude=ind_comp_to_drop)\n"
     ]
    },
    {
     "name": "stdout",
     "output_type": "stream",
     "text": [
      "    Transforming to ICA space (100 components)\n",
      "    Zeroing out 87 ICA components\n",
      "    Projecting back using 100 PCA components\n",
      "Not setting metadata\n",
      "222 matching events found\n",
      "No baseline correction applied\n",
      "0 projection items activated\n",
      "Using data from preloaded Raw for 222 events and 500 original time points ...\n",
      "45 bad epochs dropped\n",
      "EEG channel type selected for re-referencing\n",
      "Adding average EEG reference projection.\n",
      "1 projection items deactivated\n",
      "Average reference projection was added, but has not been applied yet. Use the apply_proj method to apply it.\n",
      "0 files missing from ANTS12-0Months3T.txt in /Users/christian/Code/papers/asd_infants_eeg_con_paper/ANTS12-0Months3T\n",
      "    3 BEM surfaces found\n",
      "    Reading a surface...\n",
      "[done]\n",
      "    Reading a surface...\n",
      "[done]\n",
      "    Reading a surface...\n",
      "[done]\n",
      "    3 BEM surfaces read\n",
      "Loading surfaces...\n",
      "\n",
      "Loading the solution matrix...\n",
      "\n",
      "Three-layer model surfaces loaded.\n",
      "Loaded linear collocation BEM solution from /Users/christian/Code/papers/asd_infants_eeg_con_paper/ANTS12-0Months3T/bem/ANTS12-0Months3T-5120-5120-5120-bem-sol.fif\n",
      "    Reading a source space...\n",
      "    Computing patch statistics...\n",
      "    Patch information added...\n",
      "    Distance information added...\n",
      "    [done]\n",
      "    Reading a source space...\n",
      "    Computing patch statistics...\n",
      "    Patch information added...\n",
      "    Distance information added...\n",
      "    [done]\n",
      "    2 source spaces read\n",
      "Source space          : <SourceSpaces: [<surface (lh), n_vertices=71478, n_used=4098>, <surface (rh), n_vertices=70006, n_used=4098>] MRI (surface RAS) coords, subject 'ANTS12-0Months3T', ~13.1 MB>\n",
      "MRI -> head transform : instance of Transform\n",
      "Measurement data      : instance of Info\n",
      "Conductor model   : instance of ConductorModel\n",
      "Accurate field computations\n",
      "Do computations in head coordinates\n",
      "Free source orientations\n",
      "\n",
      "Read 2 source spaces a total of 8196 active source locations\n",
      "\n",
      "Coordinate transformation: MRI (surface RAS) -> head\n",
      "     0.999705 -0.017665 -0.016663      -0.36 mm\n",
      "     0.022785  0.919675  0.392018      11.62 mm\n",
      "     0.008399 -0.392282  0.919806      29.81 mm\n",
      "     0.000000  0.000000  0.000000       1.00\n",
      "\n",
      "Read 119 EEG channels from info\n"
     ]
    },
    {
     "name": "stderr",
     "output_type": "stream",
     "text": [
      "/Users/christian/Code/acareeg/acareeg/infantmodels.py:192: RuntimeWarning: Not setting positions of 10 eog channels found in montage:\n",
      "['E1', 'E8', 'E14', 'E21', 'E25', 'E32', 'E125', 'E126', 'E127', 'E128']\n",
      "Consider setting the channel types to be of EEG/sEEG/ECoG/DBS/fNIRS using inst.set_channel_types before calling inst.set_montage, or omit these channels when creating your montage.\n",
      "  epochs.set_montage(montage)\n"
     ]
    },
    {
     "name": "stdout",
     "output_type": "stream",
     "text": [
      "Head coordinate coil definitions created.\n",
      "Source spaces are now in head coordinates.\n",
      "\n",
      "Employing the head->MRI coordinate transform with the BEM model.\n",
      "BEM model instance of ConductorModel is now set up\n",
      "\n",
      "Source spaces are in head coordinates.\n",
      "Checking that the sources are inside the surface and at least    5.0 mm away (will take a few...)\n",
      "Checking surface interior status for 4098 points...\n",
      "    Found  832/4098 points inside  an interior sphere of radius   38.5 mm\n",
      "    Found    0/4098 points outside an exterior sphere of radius   76.9 mm\n",
      "    Found    0/3266 points outside using surface Qhull\n"
     ]
    },
    {
     "name": "stderr",
     "output_type": "stream",
     "text": [
      "[Parallel(n_jobs=1)]: Using backend SequentialBackend with 1 concurrent workers.\n"
     ]
    },
    {
     "name": "stdout",
     "output_type": "stream",
     "text": [
      "    Found    0/3266 points outside using solid angles\n",
      "    Total 4098/4098 points inside the surface\n",
      "Interior check completed in 4208.2 ms\n",
      "    131 source space point omitted because of the    5.0-mm distance limit.\n",
      "    Computing patch statistics...\n",
      "    Patch information added...\n",
      "Checking surface interior status for 4098 points...\n",
      "    Found  829/4098 points inside  an interior sphere of radius   38.5 mm\n",
      "    Found    0/4098 points outside an exterior sphere of radius   76.9 mm\n",
      "    Found    0/3269 points outside using surface Qhull\n"
     ]
    },
    {
     "name": "stderr",
     "output_type": "stream",
     "text": [
      "[Parallel(n_jobs=1)]: Done   1 out of   1 | elapsed:    4.2s remaining:    0.0s\n",
      "[Parallel(n_jobs=1)]: Done   1 out of   1 | elapsed:    4.2s finished\n",
      "[Parallel(n_jobs=1)]: Using backend SequentialBackend with 1 concurrent workers.\n"
     ]
    },
    {
     "name": "stdout",
     "output_type": "stream",
     "text": [
      "    Found    0/3269 points outside using solid angles\n",
      "    Total 4098/4098 points inside the surface\n",
      "Interior check completed in 4201.1 ms\n",
      "    102 source space point omitted because of the    5.0-mm distance limit.\n",
      "    Computing patch statistics...\n",
      "    Patch information added...\n",
      "\n",
      "Setting up for EEG...\n"
     ]
    },
    {
     "name": "stderr",
     "output_type": "stream",
     "text": [
      "[Parallel(n_jobs=1)]: Done   1 out of   1 | elapsed:    4.2s remaining:    0.0s\n",
      "[Parallel(n_jobs=1)]: Done   1 out of   1 | elapsed:    4.2s finished\n"
     ]
    },
    {
     "name": "stdout",
     "output_type": "stream",
     "text": [
      "Computing EEG at 7963 source locations (free orientations)...\n"
     ]
    },
    {
     "name": "stderr",
     "output_type": "stream",
     "text": [
      "[Parallel(n_jobs=1)]: Using backend SequentialBackend with 1 concurrent workers.\n"
     ]
    },
    {
     "name": "stdout",
     "output_type": "stream",
     "text": [
      "\n",
      "Finished.\n"
     ]
    },
    {
     "name": "stderr",
     "output_type": "stream",
     "text": [
      "[Parallel(n_jobs=1)]: Done   1 out of   1 | elapsed:    5.4s remaining:    0.0s\n",
      "[Parallel(n_jobs=1)]: Done   1 out of   1 | elapsed:    5.4s finished\n"
     ]
    },
    {
     "name": "stdout",
     "output_type": "stream",
     "text": [
      "Computing rank from data with rank=None\n",
      "    Using tolerance 6.6e-10 (2.2e-16 eps * 119 dim * 2.5e+04  max singular value)\n",
      "    Estimated rank (eeg): 13\n",
      "    EEG: rank 13 computed from 119 data channels with 1 projector\n",
      "    Created an SSP operator (subspace dimension = 1)\n",
      "    Setting small EEG eigenvalues to zero (without PCA)\n",
      "Reducing data rank from 119 -> 13\n",
      "Estimating covariance using SHRUNK\n",
      "Done.\n",
      "Estimating covariance using DIAGONAL_FIXED\n",
      "    EEG regularization : 0.1\n",
      "Done.\n",
      "Estimating covariance using EMPIRICAL\n",
      "Done.\n",
      "Using cross-validation to select the best estimator.\n",
      "    EEG regularization : 0.1\n",
      "    EEG regularization : 0.1\n",
      "    EEG regularization : 0.1\n",
      "Number of samples used : 88500\n",
      "log-likelihood on unseen data (descending order):\n",
      "   shrunk: -54.494\n",
      "   empirical: -54.499\n",
      "   diagonal_fixed: -56.183\n",
      "selecting best estimator: shrunk\n",
      "[done]\n",
      "Computing inverse operator with 119 channels.\n",
      "    119 out of 119 channels remain after picking\n",
      "Selected 119 channels\n",
      "Creating the depth weighting matrix...\n",
      "    119 EEG channels\n",
      "    limit = 7964/7963 = 5.173219\n",
      "    scale = 408578 exp = 0.8\n",
      "    Picked elements from a free-orientation depth-weighting prior into the fixed-orientation one\n",
      "    Average patch normals will be employed in the rotation to the local surface coordinates....\n",
      "    Converting to surface-based source orientations...\n",
      "    [done]\n",
      "Whitening the forward solution.\n",
      "    Created an SSP operator (subspace dimension = 1)\n",
      "Computing rank from covariance with rank=None\n",
      "    Using tolerance 5.8e-14 (2.2e-16 eps * 119 dim * 2.2  max singular value)\n",
      "    Estimated rank (eeg): 118\n",
      "    EEG: rank 118 computed from 119 data channels with 1 projector\n",
      "    Setting small EEG eigenvalues to zero (without PCA)\n",
      "Creating the source covariance matrix\n",
      "Adjusting source covariance matrix.\n",
      "Computing SVD of whitened and weighted lead field matrix.\n",
      "    largest singular value = 5.83972\n",
      "    scaling factor to adjust the trace = 3.34541e+19 (nchan = 119 nzero = 1)\n",
      "    3 BEM surfaces found\n",
      "    Reading a surface...\n",
      "[done]\n",
      "    Reading a surface...\n",
      "[done]\n",
      "    Reading a surface...\n",
      "[done]\n",
      "    3 BEM surfaces read\n",
      "Loading surfaces...\n",
      "\n",
      "Loading the solution matrix...\n",
      "\n",
      "Three-layer model surfaces loaded.\n",
      "Loaded linear collocation BEM solution from /Users/christian/Code/papers/asd_infants_eeg_con_paper/ANTS12-0Months3T/bem/ANTS12-0Months3T-5120-5120-5120-bem-sol.fif\n",
      "    Reading a source space...\n",
      "    Computing patch statistics...\n",
      "    Patch information added...\n",
      "    Distance information added...\n",
      "    [done]\n",
      "    Reading a source space...\n",
      "    Computing patch statistics...\n",
      "    Patch information added...\n",
      "    Distance information added...\n",
      "    [done]\n",
      "    2 source spaces read\n",
      "Reading labels from parcellation...\n",
      "   read 34 labels from /Users/christian/Code/papers/asd_infants_eeg_con_paper/ANTS12-0Months3T/label/lh.aparc.annot\n",
      "   read 34 labels from /Users/christian/Code/papers/asd_infants_eeg_con_paper/ANTS12-0Months3T/label/rh.aparc.annot\n",
      "Preparing the inverse operator for use...\n",
      "    Scaled noise and source covariance from nave = 1 to nave = 1\n",
      "    Created the regularized inverter\n",
      "    Created an SSP operator (subspace dimension = 1)\n",
      "    Created the whitener using a noise covariance matrix with rank 118 (1 small eigenvalues omitted)\n",
      "    Computing optimized source covariance (eLORETA)...\n",
      "        Fitting up to 20 iterations...\n",
      "        Converged on iteration 13 (5.6e-07 < 1e-06)\n",
      "        Updating inverse with weighted eigen leads\n",
      "[done]\n",
      "Picked 119 channels from the data\n",
      "Computing inverse...\n",
      "    Eigenleads already weighted ... \n",
      "Processing epoch : 1 / 177\n",
      "Extracting time courses for 68 labels (mode: mean_flip)\n",
      "Processing epoch : 2 / 177\n",
      "Extracting time courses for 68 labels (mode: mean_flip)\n",
      "Processing epoch : 3 / 177\n",
      "Extracting time courses for 68 labels (mode: mean_flip)\n",
      "Processing epoch : 4 / 177\n",
      "Extracting time courses for 68 labels (mode: mean_flip)\n",
      "Processing epoch : 5 / 177\n",
      "Extracting time courses for 68 labels (mode: mean_flip)\n",
      "Processing epoch : 6 / 177\n",
      "Extracting time courses for 68 labels (mode: mean_flip)\n",
      "Processing epoch : 7 / 177\n",
      "Extracting time courses for 68 labels (mode: mean_flip)\n",
      "Processing epoch : 8 / 177\n",
      "Extracting time courses for 68 labels (mode: mean_flip)\n",
      "Processing epoch : 9 / 177\n",
      "Extracting time courses for 68 labels (mode: mean_flip)\n",
      "Processing epoch : 10 / 177\n",
      "Extracting time courses for 68 labels (mode: mean_flip)\n",
      "Processing epoch : 11 / 177\n",
      "Extracting time courses for 68 labels (mode: mean_flip)\n",
      "Processing epoch : 12 / 177\n",
      "Extracting time courses for 68 labels (mode: mean_flip)\n",
      "Processing epoch : 13 / 177\n",
      "Extracting time courses for 68 labels (mode: mean_flip)\n",
      "Processing epoch : 14 / 177\n",
      "Extracting time courses for 68 labels (mode: mean_flip)\n",
      "Processing epoch : 15 / 177\n",
      "Extracting time courses for 68 labels (mode: mean_flip)\n",
      "Processing epoch : 16 / 177\n",
      "Extracting time courses for 68 labels (mode: mean_flip)\n",
      "Processing epoch : 17 / 177\n",
      "Extracting time courses for 68 labels (mode: mean_flip)\n",
      "Processing epoch : 18 / 177\n",
      "Extracting time courses for 68 labels (mode: mean_flip)\n",
      "Processing epoch : 19 / 177\n",
      "Extracting time courses for 68 labels (mode: mean_flip)\n",
      "Processing epoch : 20 / 177\n",
      "Extracting time courses for 68 labels (mode: mean_flip)\n",
      "Processing epoch : 21 / 177\n",
      "Extracting time courses for 68 labels (mode: mean_flip)\n",
      "Processing epoch : 22 / 177\n",
      "Extracting time courses for 68 labels (mode: mean_flip)\n",
      "Processing epoch : 23 / 177\n",
      "Extracting time courses for 68 labels (mode: mean_flip)\n",
      "Processing epoch : 24 / 177\n",
      "Extracting time courses for 68 labels (mode: mean_flip)\n",
      "Processing epoch : 25 / 177\n",
      "Extracting time courses for 68 labels (mode: mean_flip)\n",
      "Processing epoch : 26 / 177\n",
      "Extracting time courses for 68 labels (mode: mean_flip)\n",
      "Processing epoch : 27 / 177\n",
      "Extracting time courses for 68 labels (mode: mean_flip)\n",
      "Processing epoch : 28 / 177\n",
      "Extracting time courses for 68 labels (mode: mean_flip)\n",
      "Processing epoch : 29 / 177\n",
      "Extracting time courses for 68 labels (mode: mean_flip)\n",
      "Processing epoch : 30 / 177\n",
      "Extracting time courses for 68 labels (mode: mean_flip)\n",
      "Processing epoch : 31 / 177\n",
      "Extracting time courses for 68 labels (mode: mean_flip)\n",
      "Processing epoch : 32 / 177\n",
      "Extracting time courses for 68 labels (mode: mean_flip)\n",
      "Processing epoch : 33 / 177\n",
      "Extracting time courses for 68 labels (mode: mean_flip)\n",
      "Processing epoch : 34 / 177\n",
      "Extracting time courses for 68 labels (mode: mean_flip)\n",
      "Processing epoch : 35 / 177\n",
      "Extracting time courses for 68 labels (mode: mean_flip)\n",
      "Processing epoch : 36 / 177\n",
      "Extracting time courses for 68 labels (mode: mean_flip)\n",
      "Processing epoch : 37 / 177\n",
      "Extracting time courses for 68 labels (mode: mean_flip)\n",
      "Processing epoch : 38 / 177\n",
      "Extracting time courses for 68 labels (mode: mean_flip)\n",
      "Processing epoch : 39 / 177\n",
      "Extracting time courses for 68 labels (mode: mean_flip)\n",
      "Processing epoch : 40 / 177\n",
      "Extracting time courses for 68 labels (mode: mean_flip)\n",
      "Processing epoch : 41 / 177\n",
      "Extracting time courses for 68 labels (mode: mean_flip)\n",
      "Processing epoch : 42 / 177\n",
      "Extracting time courses for 68 labels (mode: mean_flip)\n",
      "Processing epoch : 43 / 177\n",
      "Extracting time courses for 68 labels (mode: mean_flip)\n",
      "Processing epoch : 44 / 177\n",
      "Extracting time courses for 68 labels (mode: mean_flip)\n",
      "Processing epoch : 45 / 177\n",
      "Extracting time courses for 68 labels (mode: mean_flip)\n",
      "Processing epoch : 46 / 177\n",
      "Extracting time courses for 68 labels (mode: mean_flip)\n",
      "Processing epoch : 47 / 177\n",
      "Extracting time courses for 68 labels (mode: mean_flip)\n",
      "Processing epoch : 48 / 177\n",
      "Extracting time courses for 68 labels (mode: mean_flip)\n",
      "Processing epoch : 49 / 177\n",
      "Extracting time courses for 68 labels (mode: mean_flip)\n",
      "Processing epoch : 50 / 177\n",
      "Extracting time courses for 68 labels (mode: mean_flip)\n",
      "Processing epoch : 51 / 177\n",
      "Extracting time courses for 68 labels (mode: mean_flip)\n",
      "Processing epoch : 52 / 177\n",
      "Extracting time courses for 68 labels (mode: mean_flip)\n",
      "Processing epoch : 53 / 177\n",
      "Extracting time courses for 68 labels (mode: mean_flip)\n",
      "Processing epoch : 54 / 177\n",
      "Extracting time courses for 68 labels (mode: mean_flip)\n",
      "Processing epoch : 55 / 177\n",
      "Extracting time courses for 68 labels (mode: mean_flip)\n",
      "Processing epoch : 56 / 177\n",
      "Extracting time courses for 68 labels (mode: mean_flip)\n",
      "Processing epoch : 57 / 177\n",
      "Extracting time courses for 68 labels (mode: mean_flip)\n",
      "Processing epoch : 58 / 177\n",
      "Extracting time courses for 68 labels (mode: mean_flip)\n",
      "Processing epoch : 59 / 177\n",
      "Extracting time courses for 68 labels (mode: mean_flip)\n",
      "Processing epoch : 60 / 177\n",
      "Extracting time courses for 68 labels (mode: mean_flip)\n",
      "Processing epoch : 61 / 177\n",
      "Extracting time courses for 68 labels (mode: mean_flip)\n",
      "Processing epoch : 62 / 177\n",
      "Extracting time courses for 68 labels (mode: mean_flip)\n",
      "Processing epoch : 63 / 177\n",
      "Extracting time courses for 68 labels (mode: mean_flip)\n",
      "Processing epoch : 64 / 177\n",
      "Extracting time courses for 68 labels (mode: mean_flip)\n",
      "Processing epoch : 65 / 177\n",
      "Extracting time courses for 68 labels (mode: mean_flip)\n",
      "Processing epoch : 66 / 177\n",
      "Extracting time courses for 68 labels (mode: mean_flip)\n",
      "Processing epoch : 67 / 177\n",
      "Extracting time courses for 68 labels (mode: mean_flip)\n",
      "Processing epoch : 68 / 177\n",
      "Extracting time courses for 68 labels (mode: mean_flip)\n",
      "Processing epoch : 69 / 177\n",
      "Extracting time courses for 68 labels (mode: mean_flip)\n",
      "Processing epoch : 70 / 177\n",
      "Extracting time courses for 68 labels (mode: mean_flip)\n",
      "Processing epoch : 71 / 177\n",
      "Extracting time courses for 68 labels (mode: mean_flip)\n",
      "Processing epoch : 72 / 177\n",
      "Extracting time courses for 68 labels (mode: mean_flip)\n",
      "Processing epoch : 73 / 177\n",
      "Extracting time courses for 68 labels (mode: mean_flip)\n",
      "Processing epoch : 74 / 177\n",
      "Extracting time courses for 68 labels (mode: mean_flip)\n",
      "Processing epoch : 75 / 177\n",
      "Extracting time courses for 68 labels (mode: mean_flip)\n",
      "Processing epoch : 76 / 177\n",
      "Extracting time courses for 68 labels (mode: mean_flip)\n",
      "Processing epoch : 77 / 177\n",
      "Extracting time courses for 68 labels (mode: mean_flip)\n",
      "Processing epoch : 78 / 177\n",
      "Extracting time courses for 68 labels (mode: mean_flip)\n",
      "Processing epoch : 79 / 177\n",
      "Extracting time courses for 68 labels (mode: mean_flip)\n",
      "Processing epoch : 80 / 177\n",
      "Extracting time courses for 68 labels (mode: mean_flip)\n",
      "Processing epoch : 81 / 177\n",
      "Extracting time courses for 68 labels (mode: mean_flip)\n",
      "Processing epoch : 82 / 177\n",
      "Extracting time courses for 68 labels (mode: mean_flip)\n",
      "Processing epoch : 83 / 177\n",
      "Extracting time courses for 68 labels (mode: mean_flip)\n",
      "Processing epoch : 84 / 177\n",
      "Extracting time courses for 68 labels (mode: mean_flip)\n",
      "Processing epoch : 85 / 177\n",
      "Extracting time courses for 68 labels (mode: mean_flip)\n",
      "Processing epoch : 86 / 177\n",
      "Extracting time courses for 68 labels (mode: mean_flip)\n",
      "Processing epoch : 87 / 177\n",
      "Extracting time courses for 68 labels (mode: mean_flip)\n",
      "Processing epoch : 88 / 177\n",
      "Extracting time courses for 68 labels (mode: mean_flip)\n",
      "Processing epoch : 89 / 177\n",
      "Extracting time courses for 68 labels (mode: mean_flip)\n",
      "Processing epoch : 90 / 177\n",
      "Extracting time courses for 68 labels (mode: mean_flip)\n",
      "Processing epoch : 91 / 177\n",
      "Extracting time courses for 68 labels (mode: mean_flip)\n",
      "Processing epoch : 92 / 177\n",
      "Extracting time courses for 68 labels (mode: mean_flip)\n",
      "Processing epoch : 93 / 177\n",
      "Extracting time courses for 68 labels (mode: mean_flip)\n",
      "Processing epoch : 94 / 177\n",
      "Extracting time courses for 68 labels (mode: mean_flip)\n",
      "Processing epoch : 95 / 177\n",
      "Extracting time courses for 68 labels (mode: mean_flip)\n",
      "Processing epoch : 96 / 177\n",
      "Extracting time courses for 68 labels (mode: mean_flip)\n",
      "Processing epoch : 97 / 177\n",
      "Extracting time courses for 68 labels (mode: mean_flip)\n",
      "Processing epoch : 98 / 177\n",
      "Extracting time courses for 68 labels (mode: mean_flip)\n",
      "Processing epoch : 99 / 177\n",
      "Extracting time courses for 68 labels (mode: mean_flip)\n",
      "Processing epoch : 100 / 177\n",
      "Extracting time courses for 68 labels (mode: mean_flip)\n",
      "Processing epoch : 101 / 177\n",
      "Extracting time courses for 68 labels (mode: mean_flip)\n",
      "Processing epoch : 102 / 177\n",
      "Extracting time courses for 68 labels (mode: mean_flip)\n",
      "Processing epoch : 103 / 177\n",
      "Extracting time courses for 68 labels (mode: mean_flip)\n",
      "Processing epoch : 104 / 177\n",
      "Extracting time courses for 68 labels (mode: mean_flip)\n",
      "Processing epoch : 105 / 177\n",
      "Extracting time courses for 68 labels (mode: mean_flip)\n",
      "Processing epoch : 106 / 177\n",
      "Extracting time courses for 68 labels (mode: mean_flip)\n",
      "Processing epoch : 107 / 177\n",
      "Extracting time courses for 68 labels (mode: mean_flip)\n",
      "Processing epoch : 108 / 177\n",
      "Extracting time courses for 68 labels (mode: mean_flip)\n",
      "Processing epoch : 109 / 177\n",
      "Extracting time courses for 68 labels (mode: mean_flip)\n",
      "Processing epoch : 110 / 177\n",
      "Extracting time courses for 68 labels (mode: mean_flip)\n",
      "Processing epoch : 111 / 177\n",
      "Extracting time courses for 68 labels (mode: mean_flip)\n",
      "Processing epoch : 112 / 177\n",
      "Extracting time courses for 68 labels (mode: mean_flip)\n",
      "Processing epoch : 113 / 177\n",
      "Extracting time courses for 68 labels (mode: mean_flip)\n",
      "Processing epoch : 114 / 177\n",
      "Extracting time courses for 68 labels (mode: mean_flip)\n",
      "Processing epoch : 115 / 177\n",
      "Extracting time courses for 68 labels (mode: mean_flip)\n",
      "Processing epoch : 116 / 177\n",
      "Extracting time courses for 68 labels (mode: mean_flip)\n",
      "Processing epoch : 117 / 177\n",
      "Extracting time courses for 68 labels (mode: mean_flip)\n",
      "Processing epoch : 118 / 177\n",
      "Extracting time courses for 68 labels (mode: mean_flip)\n",
      "Processing epoch : 119 / 177\n",
      "Extracting time courses for 68 labels (mode: mean_flip)\n",
      "Processing epoch : 120 / 177\n",
      "Extracting time courses for 68 labels (mode: mean_flip)\n",
      "Processing epoch : 121 / 177\n",
      "Extracting time courses for 68 labels (mode: mean_flip)\n",
      "Processing epoch : 122 / 177\n",
      "Extracting time courses for 68 labels (mode: mean_flip)\n",
      "Processing epoch : 123 / 177\n",
      "Extracting time courses for 68 labels (mode: mean_flip)\n",
      "Processing epoch : 124 / 177\n",
      "Extracting time courses for 68 labels (mode: mean_flip)\n",
      "Processing epoch : 125 / 177\n",
      "Extracting time courses for 68 labels (mode: mean_flip)\n",
      "Processing epoch : 126 / 177\n",
      "Extracting time courses for 68 labels (mode: mean_flip)\n",
      "Processing epoch : 127 / 177\n",
      "Extracting time courses for 68 labels (mode: mean_flip)\n",
      "Processing epoch : 128 / 177\n",
      "Extracting time courses for 68 labels (mode: mean_flip)\n",
      "Processing epoch : 129 / 177\n",
      "Extracting time courses for 68 labels (mode: mean_flip)\n",
      "Processing epoch : 130 / 177\n",
      "Extracting time courses for 68 labels (mode: mean_flip)\n",
      "Processing epoch : 131 / 177\n",
      "Extracting time courses for 68 labels (mode: mean_flip)\n",
      "Processing epoch : 132 / 177\n",
      "Extracting time courses for 68 labels (mode: mean_flip)\n",
      "Processing epoch : 133 / 177\n",
      "Extracting time courses for 68 labels (mode: mean_flip)\n",
      "Processing epoch : 134 / 177\n",
      "Extracting time courses for 68 labels (mode: mean_flip)\n",
      "Processing epoch : 135 / 177\n",
      "Extracting time courses for 68 labels (mode: mean_flip)\n",
      "Processing epoch : 136 / 177\n",
      "Extracting time courses for 68 labels (mode: mean_flip)\n",
      "Processing epoch : 137 / 177\n",
      "Extracting time courses for 68 labels (mode: mean_flip)\n",
      "Processing epoch : 138 / 177\n",
      "Extracting time courses for 68 labels (mode: mean_flip)\n",
      "Processing epoch : 139 / 177\n",
      "Extracting time courses for 68 labels (mode: mean_flip)\n",
      "Processing epoch : 140 / 177\n",
      "Extracting time courses for 68 labels (mode: mean_flip)\n",
      "Processing epoch : 141 / 177\n",
      "Extracting time courses for 68 labels (mode: mean_flip)\n",
      "Processing epoch : 142 / 177\n",
      "Extracting time courses for 68 labels (mode: mean_flip)\n",
      "Processing epoch : 143 / 177\n",
      "Extracting time courses for 68 labels (mode: mean_flip)\n",
      "Processing epoch : 144 / 177\n",
      "Extracting time courses for 68 labels (mode: mean_flip)\n",
      "Processing epoch : 145 / 177\n",
      "Extracting time courses for 68 labels (mode: mean_flip)\n",
      "Processing epoch : 146 / 177\n",
      "Extracting time courses for 68 labels (mode: mean_flip)\n",
      "Processing epoch : 147 / 177\n",
      "Extracting time courses for 68 labels (mode: mean_flip)\n",
      "Processing epoch : 148 / 177\n",
      "Extracting time courses for 68 labels (mode: mean_flip)\n",
      "Processing epoch : 149 / 177\n",
      "Extracting time courses for 68 labels (mode: mean_flip)\n",
      "Processing epoch : 150 / 177\n",
      "Extracting time courses for 68 labels (mode: mean_flip)\n",
      "Processing epoch : 151 / 177\n",
      "Extracting time courses for 68 labels (mode: mean_flip)\n",
      "Processing epoch : 152 / 177\n",
      "Extracting time courses for 68 labels (mode: mean_flip)\n",
      "Processing epoch : 153 / 177\n",
      "Extracting time courses for 68 labels (mode: mean_flip)\n",
      "Processing epoch : 154 / 177\n",
      "Extracting time courses for 68 labels (mode: mean_flip)\n",
      "Processing epoch : 155 / 177\n",
      "Extracting time courses for 68 labels (mode: mean_flip)\n",
      "Processing epoch : 156 / 177\n",
      "Extracting time courses for 68 labels (mode: mean_flip)\n",
      "Processing epoch : 157 / 177\n",
      "Extracting time courses for 68 labels (mode: mean_flip)\n",
      "Processing epoch : 158 / 177\n",
      "Extracting time courses for 68 labels (mode: mean_flip)\n",
      "Processing epoch : 159 / 177\n",
      "Extracting time courses for 68 labels (mode: mean_flip)\n",
      "Processing epoch : 160 / 177\n",
      "Extracting time courses for 68 labels (mode: mean_flip)\n",
      "Processing epoch : 161 / 177\n",
      "Extracting time courses for 68 labels (mode: mean_flip)\n",
      "Processing epoch : 162 / 177\n",
      "Extracting time courses for 68 labels (mode: mean_flip)\n",
      "Processing epoch : 163 / 177\n",
      "Extracting time courses for 68 labels (mode: mean_flip)\n",
      "Processing epoch : 164 / 177\n",
      "Extracting time courses for 68 labels (mode: mean_flip)\n",
      "Processing epoch : 165 / 177\n",
      "Extracting time courses for 68 labels (mode: mean_flip)\n",
      "Processing epoch : 166 / 177\n",
      "Extracting time courses for 68 labels (mode: mean_flip)\n",
      "Processing epoch : 167 / 177\n",
      "Extracting time courses for 68 labels (mode: mean_flip)\n",
      "Processing epoch : 168 / 177\n",
      "Extracting time courses for 68 labels (mode: mean_flip)\n",
      "Processing epoch : 169 / 177\n",
      "Extracting time courses for 68 labels (mode: mean_flip)\n",
      "Processing epoch : 170 / 177\n",
      "Extracting time courses for 68 labels (mode: mean_flip)\n",
      "Processing epoch : 171 / 177\n",
      "Extracting time courses for 68 labels (mode: mean_flip)\n",
      "Processing epoch : 172 / 177\n",
      "Extracting time courses for 68 labels (mode: mean_flip)\n",
      "Processing epoch : 173 / 177\n",
      "Extracting time courses for 68 labels (mode: mean_flip)\n",
      "Processing epoch : 174 / 177\n",
      "Extracting time courses for 68 labels (mode: mean_flip)\n",
      "Processing epoch : 175 / 177\n",
      "Extracting time courses for 68 labels (mode: mean_flip)\n",
      "Processing epoch : 176 / 177\n",
      "Extracting time courses for 68 labels (mode: mean_flip)\n",
      "Processing epoch : 177 / 177\n",
      "Extracting time courses for 68 labels (mode: mean_flip)\n",
      "[done]\n"
     ]
    }
   ],
   "source": [
    "fmin = (3, )\n",
    "fmax = (100, )\n",
    "bands = (\"broadband\", )\n",
    "con_names = (\"ciplv\", \"wpli\")\n",
    "mode = 'multitaper'\n",
    "\n",
    "common_template_age = 12\n",
    "tmax = 1.0\n",
    "min_nb_epochs = 20\n",
    "np.random.seed(324234)\n",
    "con_path = Path(\"/Volumes/usc_data/ElementSE/eegip/test_reliability/\")\n",
    "bids_root = Path(\"/Volumes/usc_data/ElementSE/eegip\")\n",
    "subjects_dir = \".\"\n",
    "\n",
    "epochs = acareeg.eegip.get_resting_state_epochs(subject_no, dataset, age, \n",
    "                                                bids_root=bids_root,\n",
    "                                                tmax=tmax)\n",
    "epochs.set_eeg_reference(projection=True)\n",
    "sources_age = common_template_age\n",
    "\n",
    "# Currently, we don't include the volume sources because there is no way to simulate\n",
    "# with mixed source models.                    \n",
    "label_ts, anat_label = acareeg.infantmodels.compute_sources(epochs, sources_age, \n",
    "                                                            subjects_dir=subjects_dir, \n",
    "                                                            return_labels=True, return_xr=False, loose=0, \n",
    "                                                            fixed=True, inv_method=\"eLORETA\", pick_ori=None,\n",
    "                                                            lambda2=1e-4, minimal_snr=None, verbose=False, \n",
    "                                                            include_vol_src=False)          \n",
    "label_names = np.array([label.name for label in anat_label])\n",
    "sfreq = epochs.info['sfreq']            \n",
    "\n",
    "label_ts = np.array(label_ts)\n",
    "n = np.array(label_ts).shape[0]"
   ]
  },
  {
   "cell_type": "code",
   "execution_count": 28,
   "metadata": {},
   "outputs": [
    {
     "data": {
      "application/vnd.jupyter.widget-view+json": {
       "model_id": "7ffdcd72eea44f038944a762842b0251",
       "version_major": 2,
       "version_minor": 0
      },
      "text/plain": [
       "  0%|          | 0/100 [00:00<?, ?it/s]"
      ]
     },
     "metadata": {},
     "output_type": "display_data"
    }
   ],
   "source": [
    "recompute = False\n",
    "\n",
    "for i in tqdm(list(range(100))):\n",
    "    for con_name in con_names:\n",
    "        path_out = con_path / f\"{subject_no}_{dataset}_{age}_{con_name}_{common_template_age}m-template_{i}.csv\"\n",
    "\n",
    "        if path_out.exists() and not recompute:\n",
    "            continue\n",
    "        \n",
    "        con_df = []       \n",
    "        sample = label_ts[np.random.choice(range(n), n, replace=True), :, :]\n",
    "        con = mne_connectivity.spectral_connectivity_epochs(sample, \n",
    "                                                            method=con_name,\n",
    "                                                            mode=mode, sfreq=sfreq, fmin=fmin,\n",
    "                                                            fmax=fmax, faverage=True, verbose=False)\n",
    "        dfs = [] \n",
    "        for mat, band in zip(con.get_data(\"dense\").transpose(2, 0, 1), bands):\n",
    "            mat = pd.DataFrame(mat) + np.triu(mat * np.nan)\n",
    "            mat.index = label_names\n",
    "            mat.columns = label_names\n",
    "            df = mat.reset_index().melt(id_vars=\"index\").dropna()\n",
    "            df.columns = [\"region1\", \"region2\", \"con\"]\n",
    "            df[\"con_name\"] = con_name\n",
    "            df[\"band\"] = band\n",
    "            df[\"age\"] = age\n",
    "            dfs.append(df)\n",
    "\n",
    "        pd.concat(dfs).to_csv(path_out)"
   ]
  },
  {
   "cell_type": "code",
   "execution_count": 29,
   "metadata": {},
   "outputs": [
    {
     "data": {
      "text/plain": [
       "<matplotlib.legend.Legend at 0x7fd7cc8fcc70>"
      ]
     },
     "execution_count": 29,
     "metadata": {},
     "output_type": "execute_result"
    }
   ],
   "source": [
    "con_path = Path(\"/Volumes/usc_data/ElementSE/eegip/test_reliability/\")\n",
    "\n",
    "df_reliability = pd.concat([pd.read_csv(f, index_col=0) for f in list(con_path.glob(\"*\"))])\n",
    "\n",
    "for con_name in df_reliability.con_name.unique():\n",
    "    cond = df_reliability.con_name == con_name\n",
    "    sns.kdeplot(data=df_reliability[cond].groupby([\"region1\", \"region2\"])\n",
    "                                         .std()[\"con\"]\n",
    "                                         .reset_index(),\n",
    "                x=\"con\", fill=True, ax=axes[2], label=con_name)\n",
    "axes[2].set_xlabel(\"STD of connectivity measures\")\n",
    "axes[2].legend()\n",
    "\n"
   ]
  },
  {
   "cell_type": "code",
   "execution_count": 30,
   "metadata": {},
   "outputs": [
    {
     "data": {
      "image/png": "[encoded data removed]",
      "text/plain": [
       "<Figure size 504x360 with 3 Axes>"
      ]
     },
     "execution_count": 30,
     "metadata": {},
     "output_type": "execute_result"
    }
   ],
   "source": [
    "fig.text(0.01, 0.98, \"a\", fontweight=\"bold\")    \n",
    "fig.text(0.51, 0.98, \"b\", fontweight=\"bold\")    \n",
    "fig.text(0.01, 0.49, \"c\", fontweight=\"bold\")       \n",
    "fig.savefig(\"images/supp_method_fig1.png\", dpi=300)\n",
    "\n",
    "fig"
   ]
  },
  {
   "cell_type": "code",
   "execution_count": null,
   "metadata": {},
   "outputs": [],
   "source": []
  }
 ],
 "metadata": {
  "kernelspec": {
   "display_name": "Python 3",
   "language": "python",
   "name": "python3"
  },
  "language_info": {
   "codemirror_mode": {
    "name": "ipython",
    "version": 3
   },
   "file_extension": ".py",
   "mimetype": "text/x-python",
   "name": "python",
   "nbconvert_exporter": "python",
   "pygments_lexer": "ipython3",
   "version": "3.9.7"
  }
 },
 "nbformat": 4,
 "nbformat_minor": 4
}
